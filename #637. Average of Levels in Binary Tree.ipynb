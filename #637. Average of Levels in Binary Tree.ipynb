{
 "metadata": {
  "name": "",
  "signature": "sha256:e666ad569d34b74a705ef8ffd16289088f0155d394316f67c063c584e2f08ab0"
 },
 "nbformat": 3,
 "nbformat_minor": 0,
 "worksheets": [
  {
   "cells": [
    {
     "cell_type": "markdown",
     "metadata": {},
     "source": [
      "Given a non-empty binary tree, return the average value of the nodes on each level in the form of an array.\n",
      "\n",
      "Example 1:\n",
      "Input:\n",
      "    3\n",
      "   / \\\n",
      "  9  20\n",
      "    /  \\\n",
      "   15   7\n",
      "Output: [3, 14.5, 11]\n",
      "Explanation:\n",
      "The average value of nodes on level 0 is 3,  on level 1 is 14.5, and on level 2 is 11. Hence return [3, 14.5, 11].\n",
      "Note:\n",
      "The range of node's value is in the range of 32-bit signed integer."
     ]
    },
    {
     "cell_type": "code",
     "collapsed": false,
     "input": [
      "# Definition for a binary tree node.\n",
      "# class TreeNode(object):\n",
      "#     def __init__(self, x):\n",
      "#         self.val = x\n",
      "#         self.left = None\n",
      "#         self.right = None\n",
      "\n",
      "class Solution(object):\n",
      "    def averageOfLevels(self, root):\n",
      "        info = []\n",
      "        def dfs(node, depth = 0):\n",
      "            if node:\n",
      "                if len(info) <= depth:\n",
      "                    info.append([0, 0])\n",
      "                info[depth][0] += node.val\n",
      "                info[depth][1] += 1\n",
      "                dfs(node.left, depth + 1)\n",
      "                dfs(node.right, depth + 1)\n",
      "        dfs(root)\n",
      "\n",
      "        return [s/float(c) for s, c in info]\n",
      "    # the key technique is add a 2-deminsional list for calculate the results."
     ],
     "language": "python",
     "metadata": {},
     "outputs": [],
     "prompt_number": 2
    },
    {
     "cell_type": "code",
     "collapsed": false,
     "input": [],
     "language": "python",
     "metadata": {},
     "outputs": []
    }
   ],
   "metadata": {}
  }
 ]
}