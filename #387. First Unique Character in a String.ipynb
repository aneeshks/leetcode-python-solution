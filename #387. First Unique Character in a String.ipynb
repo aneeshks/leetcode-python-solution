{
 "metadata": {
  "name": "",
  "signature": "sha256:124610bf3c9843bced8de8311bcfc39a00f08f898eae05394715f530a5c789b4"
 },
 "nbformat": 3,
 "nbformat_minor": 0,
 "worksheets": [
  {
   "cells": [
    {
     "cell_type": "markdown",
     "metadata": {},
     "source": [
      "Given a string, find the first non-repeating character in it and return it's index. If it doesn't exist, return -1.\n",
      "\n",
      "Examples:\n",
      "\n",
      "s = \"leetcode\"\n",
      "return 0.\n",
      "\n",
      "s = \"loveleetcode\",\n",
      "return 2.\n",
      "Note: You may assume the string contain only lowercase letters.\n",
      "\n"
     ]
    },
    {
     "cell_type": "code",
     "collapsed": false,
     "input": [
      "class Solution(object):\n",
      "    def firstUniqChar(self, s):\n",
      "        \"\"\"\n",
      "        :type s: str\n",
      "        :rtype: int\n",
      "        \"\"\"\n",
      "        ss = collections.Counter(s);\n",
      "        \n",
      "        for i in range(len(s)):\n",
      "            if ss[s[i]] == 1:\n",
      "                return i\n",
      "        return -1   \n",
      "                "
     ],
     "language": "python",
     "metadata": {},
     "outputs": [],
     "prompt_number": 3
    },
    {
     "cell_type": "markdown",
     "metadata": {},
     "source": [
      "A faster way is to collect the idx of letters."
     ]
    },
    {
     "cell_type": "code",
     "collapsed": false,
     "input": [
      "    def firstUniqChar(self, s):\n",
      "        \"\"\"\n",
      "        :type s: str\n",
      "        :rtype: int\n",
      "        \"\"\"\n",
      "        \n",
      "        letters='abcdefghijklmnopqrstuvwxyz'\n",
      "        index=[s.index(l) for l in letters if s.count(l) == 1]\n",
      "        return min(index) if len(index) > 0 else -1"
     ],
     "language": "python",
     "metadata": {},
     "outputs": [],
     "prompt_number": 2
    }
   ],
   "metadata": {}
  }
 ]
}