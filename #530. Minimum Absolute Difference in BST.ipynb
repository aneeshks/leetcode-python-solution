{
 "metadata": {
  "name": "",
  "signature": "sha256:248870c1b4e8497d58ed8c587518765549d63b4187c1cc631cba24f0a72c7091"
 },
 "nbformat": 3,
 "nbformat_minor": 0,
 "worksheets": [
  {
   "cells": [
    {
     "cell_type": "markdown",
     "metadata": {},
     "source": [
      "Given a binary search tree with non-negative values, find the minimum absolute difference between values of any two nodes.\n",
      "\n",
      "Example:\n",
      "\n",
      "Input:\n",
      "\n",
      "   1\n",
      "    \\\n",
      "     3\n",
      "    /\n",
      "   2\n",
      "\n",
      "Output:\n",
      "1\n",
      "\n",
      "Explanation:\n",
      "The minimum absolute difference is 1, which is the difference between 2 and 1 (or between 2 and 3)."
     ]
    },
    {
     "cell_type": "code",
     "collapsed": false,
     "input": [
      "# Definition for a binary tree node.\n",
      "# class TreeNode(object):\n",
      "#     def __init__(self, x):\n",
      "#         self.val = x\n",
      "#         self.left = None\n",
      "#         self.right = None\n",
      "\n",
      "class Solution(object):\n",
      "    def getMinimumDifference(self, root):\n",
      "        \"\"\"\n",
      "        :type root: TreeNode\n",
      "        :rtype: int\n",
      "        \"\"\"\n",
      "        bfs,s = [root],list();\n",
      "        \n",
      "        for i in bfs: \n",
      "            if i.left: bfs.append(i.left);\n",
      "            if i.right: bfs.append(i.right);\n",
      "            s.append(i.val)\n",
      "        # print(len(s))    \n",
      "        # def dfs(node, l=[]):\n",
      "        #     if node.left: dfs(node.left, l)\n",
      "        #     l.append(node.val)\n",
      "        #     if node.right: dfs(node.right, l)\n",
      "        #     return l\n",
      "        # l = dfs(root)\n",
      "        s.sort()\n",
      "        # l.sort()\n",
      "        #min_diff2 = min([abs(a-b) for a,b in zip(l, l[1:])])\n",
      "        min_diff = min([abs(a-b) for a,b in zip(s, s[1:])])\n",
      "        #print(min_diff2,min_diff)                         \n",
      "        return min_diff\n",
      "                    "
     ],
     "language": "python",
     "metadata": {},
     "outputs": [],
     "prompt_number": 1
    },
    {
     "cell_type": "code",
     "collapsed": false,
     "input": [],
     "language": "python",
     "metadata": {},
     "outputs": []
    }
   ],
   "metadata": {}
  }
 ]
}