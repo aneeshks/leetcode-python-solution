{
 "metadata": {
  "name": "",
  "signature": "sha256:95d86dd8e4f24fa0aff1ed002c3af053c1c66625800157e32f89178a68b7ef23"
 },
 "nbformat": 3,
 "nbformat_minor": 0,
 "worksheets": [
  {
   "cells": [
    {
     "cell_type": "markdown",
     "metadata": {},
     "source": [
      "Given two binary trees and imagine that when you put one of them to cover the other, some nodes of the two trees are overlapped while the others are not.\n",
      "\n",
      "You need to merge them into a new binary tree. The merge rule is that if two nodes overlap, then sum node values up as the new value of the merged node. Otherwise, the NOT null node will be used as the node of new tree.\n",
      "\n"
     ]
    },
    {
     "cell_type": "code",
     "collapsed": false,
     "input": [
      "class Solution:\n",
      "    def mergeTrees(self, t1, t2):\n",
      "        \"\"\"\n",
      "        :type t1: TreeNode\n",
      "        :type t2: TreeNode\n",
      "        :rtype: TreeNode\n",
      "        \"\"\"\n",
      "        t0 = t1;\n",
      "        \n",
      "        if not t1 and not t2:  # if dont have any child.\n",
      "            return None;\n",
      "        elif not t2:  # if only t1. \n",
      "            t0.val = t1.val; \n",
      "        elif not t1: # if ouly t2.\n",
      "            t0 = t2;\n",
      "            t0.val = t2.val;\n",
      "        else: #both\n",
      "            t0.val = t1.val + t2.val;\n",
      "            t0.left = self.mergeTrees(t1.left,t2.left);\n",
      "            t0.right = self.mergeTrees(t1.right,t2.right);\n",
      "        \n",
      "        return t0;"
     ],
     "language": "python",
     "metadata": {},
     "outputs": [],
     "prompt_number": 1
    },
    {
     "cell_type": "code",
     "collapsed": false,
     "input": [],
     "language": "python",
     "metadata": {},
     "outputs": []
    }
   ],
   "metadata": {}
  }
 ]
}