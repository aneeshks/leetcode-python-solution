{
 "metadata": {
  "name": "",
  "signature": "sha256:f3ff6908968c90b850f4080be298957dec74536c7050aab032c391d802bc44de"
 },
 "nbformat": 3,
 "nbformat_minor": 0,
 "worksheets": [
  {
   "cells": [
    {
     "cell_type": "markdown",
     "metadata": {},
     "source": [
      "Given a binary tree, find its maximum depth.\n",
      "\n",
      "The maximum depth is the number of nodes along the longest path from the root node down to the farthest leaf node."
     ]
    },
    {
     "cell_type": "code",
     "collapsed": false,
     "input": [
      "# Definition for a binary tree node.\n",
      "# class TreeNode(object):\n",
      "#     def __init__(self, x):\n",
      "#         self.val = x\n",
      "#         self.left = None\n",
      "#         self.right = None\n",
      "\n",
      "class Solution(object):\n",
      "    def maxDepth(self, root):\n",
      "        \"\"\"\n",
      "        :type root: TreeNode\n",
      "        :rtype: int\n",
      "        \"\"\"\n",
      "        if root == None:\n",
      "            return 0;\n",
      "        rl = 1 + self.maxDepth(root.left)\n",
      "        rr = 1 + self.maxDepth(root.right)\n",
      "        return rl if rl > rr else rr\n",
      "            "
     ],
     "language": "python",
     "metadata": {},
     "outputs": [],
     "prompt_number": 2
    },
    {
     "cell_type": "code",
     "collapsed": false,
     "input": [],
     "language": "python",
     "metadata": {},
     "outputs": []
    }
   ],
   "metadata": {}
  }
 ]
}