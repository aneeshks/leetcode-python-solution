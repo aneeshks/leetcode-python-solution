{
 "metadata": {
  "name": "",
  "signature": "sha256:7894999c157a2bd0e44e5e89234a1743b6173ec17d20e173db7904e046345ac0"
 },
 "nbformat": 3,
 "nbformat_minor": 0,
 "worksheets": [
  {
   "cells": [
    {
     "cell_type": "markdown",
     "metadata": {},
     "source": [
      "Given a positive integer, output its complement number. The complement strategy is to flip the bits of its binary representation.\n",
      "\n",
      "Note:\n",
      "The given integer is guaranteed to fit within the range of a 32-bit signed integer.\n",
      "You could assume no leading zero bit in the integer\u2019s binary representation.\n",
      "Example 1:\n",
      "Input: 5\n",
      "Output: 2\n",
      "Explanation: The binary representation of 5 is 101 (no leading zero bits), and its complement is 010. So you need to output 2.\n",
      "Example 2:\n",
      "Input: 1\n",
      "Output: 0\n",
      "Explanation: The binary representation of 1 is 1 (no leading zero bits), and its complement is 0. So you need to output 0.\n",
      "\n",
      "# just about binary"
     ]
    },
    {
     "cell_type": "code",
     "collapsed": false,
     "input": [
      "class Solution(object):\n",
      "    def findComplement(self, num):\n",
      "        \"\"\"\n",
      "        :type num: int\n",
      "        :rtype: int\n",
      "        \"\"\"\n",
      "        cc = len(str(bin(num))[2:]);\n",
      "        return 2**cc-num-1;"
     ],
     "language": "python",
     "metadata": {},
     "outputs": [],
     "prompt_number": 1
    }
   ],
   "metadata": {}
  }
 ]
}