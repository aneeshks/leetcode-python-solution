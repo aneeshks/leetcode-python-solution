{
 "metadata": {
  "name": "",
  "signature": "sha256:fd0e865d3c5131936f9699d7aa88e6c2913b9a79b1d0bc8e6294a4010e9dbc1f"
 },
 "nbformat": 3,
 "nbformat_minor": 0,
 "worksheets": [
  {
   "cells": [
    {
     "cell_type": "markdown",
     "metadata": {},
     "source": [
      "You are given a data structure of employee information, which includes the employee's unique id, his importance value and his direct subordinates' id.\n",
      "\n",
      "For example, employee 1 is the leader of employee 2, and employee 2 is the leader of employee 3. They have importance value 15, 10 and 5, respectively. Then employee 1 has a data structure like [1, 15, [2]], and employee 2 has [2, 10, [3]], and employee 3 has [3, 5, []]. Note that although employee 3 is also a subordinate of employee 1, the relationship is not direct.\n",
      "\n",
      "Now given the employee information of a company, and an employee id, you need to return the total importance value of this employee and all his subordinates."
     ]
    },
    {
     "cell_type": "code",
     "collapsed": false,
     "input": [
      "\"\"\"\n",
      "# Employee info\n",
      "class Employee:\n",
      "    def __init__(self, id, importance, subordinates):\n",
      "        # It's the unique id of each node.\n",
      "        # unique id of this employee\n",
      "        self.id = id\n",
      "        # the importance value of this employee\n",
      "        self.importance = importance\n",
      "        # the id of direct subordinates\n",
      "        self.subordinates = subordinates\n",
      "\"\"\"\n",
      "class Solution:\n",
      "    def getImportance(self, employees, id):\n",
      "        \"\"\"\n",
      "        :type employees: Employee\n",
      "        :type id: int\n",
      "        :rtype: int\n",
      "        \"\"\"\n",
      "        def getImportancebyid(employees, id, sums=[]):\n",
      "            for i in employees:\n",
      "                if i.id == id:\n",
      "                    sums.append(i.importance)\n",
      "                    if len(i.subordinates)==0:\n",
      "                        continue\n",
      "                    for j in i.subordinates:\n",
      "                        getImportancebyid(employees, j,sums)\n",
      "            \n",
      "        xx = [];\n",
      "        getImportancebyid(employees, id, xx)\n",
      "        return sum(xx)"
     ],
     "language": "python",
     "metadata": {},
     "outputs": [],
     "prompt_number": 1
    }
   ],
   "metadata": {}
  }
 ]
}