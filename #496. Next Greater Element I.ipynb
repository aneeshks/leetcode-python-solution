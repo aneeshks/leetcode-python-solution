{
 "metadata": {
  "name": "",
  "signature": "sha256:a2229df94f19d228e39c976c30f0e0d69dc5cb738d6904d28d012e39d2144b36"
 },
 "nbformat": 3,
 "nbformat_minor": 0,
 "worksheets": [
  {
   "cells": [
    {
     "cell_type": "markdown",
     "metadata": {},
     "source": [
      "You are given two arrays (without duplicates) nums1 and nums2 where nums1\u2019s elements are subset of nums2. Find all the next greater numbers for nums1's elements in the corresponding places of nums2.\n",
      "\n",
      "The Next Greater Number of a number x in nums1 is the first greater number to its right in nums2. If it does not exist, output -1 for this number."
     ]
    },
    {
     "cell_type": "code",
     "collapsed": false,
     "input": [
      "class Solution(object):\n",
      "    def nextGreaterElement(self, findNums, nums):\n",
      "        \"\"\"\n",
      "        :type findNums: List[int]\n",
      "        :type nums: List[int]\n",
      "        :rtype: List[int]\n",
      "        \"\"\"\n",
      "\n",
      "        re = [-1 for _ in findNums];\n",
      "        for i,v in enumerate(findNums):\n",
      "            idx = nums.index(v)\n",
      "            for j in range(idx,len(nums)):\n",
      "                print(nums[j],v)\n",
      "                if nums[j] > v:\n",
      "                    re[i] = nums[j]\n",
      "                    break;\n",
      "        return re"
     ],
     "language": "python",
     "metadata": {},
     "outputs": [],
     "prompt_number": 1
    },
    {
     "cell_type": "code",
     "collapsed": false,
     "input": [],
     "language": "python",
     "metadata": {},
     "outputs": []
    }
   ],
   "metadata": {}
  }
 ]
}