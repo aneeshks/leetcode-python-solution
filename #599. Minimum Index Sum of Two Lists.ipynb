{
 "metadata": {
  "name": "",
  "signature": "sha256:b0a67fd203855648513e93626f8dbd057e7e3b9070f017dd913ba7ded9e92824"
 },
 "nbformat": 3,
 "nbformat_minor": 0,
 "worksheets": [
  {
   "cells": [
    {
     "cell_type": "markdown",
     "metadata": {},
     "source": [
      "Suppose Andy and Doris want to choose a restaurant for dinner, and they both have a list of favorite restaurants represented by strings.\n",
      "\n",
      "You need to help them find out their common interest with the least list index sum. If there is a choice tie between answers, output all of them with no order requirement. You could assume there always exists an answer.\n",
      "\n",
      "Example 1:\n",
      "Input:\n",
      "[\"Shogun\", \"Tapioca Express\", \"Burger King\", \"KFC\"]\n",
      "[\"Piatti\", \"The Grill at Torrey Pines\", \"Hungry Hunter Steakhouse\", \"Shogun\"]\n",
      "Output: [\"Shogun\"]\n",
      "Explanation: The only restaurant they both like is \"Shogun\".\n",
      "Example 2:\n",
      "Input:\n",
      "[\"Shogun\", \"Tapioca Express\", \"Burger King\", \"KFC\"]\n",
      "[\"KFC\", \"Shogun\", \"Burger King\"]\n",
      "Output: [\"Shogun\"]\n",
      "Explanation: The restaurant they both like and have the least index sum is \"Shogun\" with index sum 1 (0+1)."
     ]
    },
    {
     "cell_type": "code",
     "collapsed": false,
     "input": [
      "class Solution(object):\n",
      "    def findRestaurant(self, A, B):\n",
      "        Aindex = {u: i for i, u in enumerate(A)}\n",
      "        best, ans = 1e9, []\n",
      "\n",
      "        for j, v in enumerate(B):\n",
      "            i = Aindex.get(v, 1e9)\n",
      "            if i + j < best:\n",
      "                best = i + j\n",
      "                ans = [v]\n",
      "            elif i + j == best:\n",
      "                ans.append(v)\n",
      "        return ans"
     ],
     "language": "python",
     "metadata": {},
     "outputs": [],
     "prompt_number": 1
    },
    {
     "cell_type": "code",
     "collapsed": false,
     "input": [
      "#this problem is to remember the best sum of idx and push the same one in a list.\n",
      "# the usage of dict make time space from O^2 to O"
     ],
     "language": "python",
     "metadata": {},
     "outputs": []
    }
   ],
   "metadata": {}
  }
 ]
}