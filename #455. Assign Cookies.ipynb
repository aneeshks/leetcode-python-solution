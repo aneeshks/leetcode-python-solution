{
 "metadata": {
  "name": "",
  "signature": "sha256:465889a3ff5eb9022e24b31042fb1b7d4801f52c02444fa8f8cd565f423a7213"
 },
 "nbformat": 3,
 "nbformat_minor": 0,
 "worksheets": [
  {
   "cells": [
    {
     "cell_type": "markdown",
     "metadata": {},
     "source": [
      "Assume you are an awesome parent and want to give your children some cookies. But, you should give each child at most one cookie. Each child i has a greed factor gi, which is the minimum size of a cookie that the child will be content with; and each cookie j has a size sj. If sj >= gi, we can assign the cookie j to the child i, and the child i will be content. Your goal is to maximize the number of your content children and output the maximum number.\n",
      "\n",
      "Note:\n",
      "You may assume the greed factor is always positive. \n",
      "You cannot assign more than one cookie to one child."
     ]
    },
    {
     "cell_type": "code",
     "collapsed": false,
     "input": [
      "# greedy search.\n",
      "class Solution(object):\n",
      "    def findContentChildren(self, g, s):\n",
      "        \"\"\"\n",
      "        :type g: List[int]\n",
      "        :type s: List[int]\n",
      "        :rtype: int\n",
      "        \"\"\"\n",
      "        g.sort() # greed factor of each child \n",
      "        s.sort() # candy\n",
      "        idxs = 0\n",
      "        gi = 0\n",
      "        si = 0 \n",
      "        if len(s) == 0 or len(g) == 0:\n",
      "            return 0;\n",
      "        while si < len(s) and gi < len(g): \n",
      "            if s[si] >= g[gi]: # if current candy great than greed factor\n",
      "                gi += 1 # take the candy.\n",
      "            si += 1 # else just update the child.\n",
      "            \n",
      "        return gi"
     ],
     "language": "python",
     "metadata": {},
     "outputs": []
    }
   ],
   "metadata": {}
  }
 ]
}