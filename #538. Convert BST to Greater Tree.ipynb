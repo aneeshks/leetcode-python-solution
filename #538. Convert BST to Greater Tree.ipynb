{
 "metadata": {
  "name": "",
  "signature": "sha256:99d59c91b0df2ec59a748c20b9dad3658af2d1078508fa09fd72ea2a9923dd44"
 },
 "nbformat": 3,
 "nbformat_minor": 0,
 "worksheets": [
  {
   "cells": [
    {
     "cell_type": "markdown",
     "metadata": {},
     "source": [
      "Given a Binary Search Tree (BST), convert it to a Greater Tree such that every key of the original BST is changed to the original key plus sum of all keys greater than the original key in BST."
     ]
    },
    {
     "cell_type": "code",
     "collapsed": false,
     "input": [
      "# Definition for a binary tree node.\n",
      "# class TreeNode(object):\n",
      "#     def __init__(self, x):\n",
      "#         self.val = x\n",
      "#         self.left = None\n",
      "#         self.right = None\n",
      "\n",
      "class Solution(object):\n",
      "    def convertBST(self, root):\n",
      "        \"\"\"\n",
      "        :type root: TreeNode\n",
      "        :rtype: TreeNode\n",
      "        \"\"\"\n",
      "        def reverse(root):\n",
      "            return reverse(root.right) + [root] + reverse(root.left) if root else []\n",
      "        rr = reverse(root)\n",
      "        for a,b in zip(rr,rr[1:]):\n",
      "            b.val = a.val+b.val\n",
      "        return root"
     ],
     "language": "python",
     "metadata": {},
     "outputs": [],
     "prompt_number": 3
    },
    {
     "cell_type": "code",
     "collapsed": false,
     "input": [
      "for a,b in zip([1,2,3,4],[1,2,3,4][1:]):\n",
      "    print(a,b)"
     ],
     "language": "python",
     "metadata": {},
     "outputs": [
      {
       "output_type": "stream",
       "stream": "stdout",
       "text": [
        "1 2\n",
        "2 3\n",
        "3 4\n"
       ]
      }
     ],
     "prompt_number": 5
    },
    {
     "cell_type": "code",
     "collapsed": false,
     "input": [],
     "language": "python",
     "metadata": {},
     "outputs": []
    }
   ],
   "metadata": {}
  }
 ]
}