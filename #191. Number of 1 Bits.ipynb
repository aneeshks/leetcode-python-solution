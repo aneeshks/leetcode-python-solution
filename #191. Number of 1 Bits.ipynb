{
 "metadata": {
  "name": "",
  "signature": "sha256:4d9369081f20b7bf1488db39d761fc6886304636931286039bcae2411b1b9ce0"
 },
 "nbformat": 3,
 "nbformat_minor": 0,
 "worksheets": [
  {
   "cells": [
    {
     "cell_type": "code",
     "collapsed": false,
     "input": [
      "class Solution(object):\n",
      "    def hammingWeight(self, n):\n",
      "        \"\"\"\n",
      "        :type n: int\n",
      "        :rtype: int\n",
      "        \"\"\"\n",
      "        count = 0\n",
      "        while n!=0:\n",
      "            print(bin(n),bin(n-1), bin(n&(n-1)) )\n",
      "            print(n, n-1, n&(n-1) )\n",
      "            n = n & (n-1);\n",
      "            count = count + 1\n",
      "        return count\n",
      "        \n",
      "s = Solution()\n",
      "s.hammingWeight(int( 0b110111) )"
     ],
     "language": "python",
     "metadata": {},
     "outputs": [
      {
       "output_type": "stream",
       "stream": "stdout",
       "text": [
        "0b110111 0b110110 0b110110\n",
        "55 54 54\n",
        "0b110110 0b110101 0b110100\n",
        "54 53 52\n",
        "0b110100 0b110011 0b110000\n",
        "52 51 48\n",
        "0b110000 0b101111 0b100000\n",
        "48 47 32\n",
        "0b100000 0b11111 0b0\n",
        "32 31 0\n"
       ]
      },
      {
       "metadata": {},
       "output_type": "pyout",
       "prompt_number": 17,
       "text": [
        "5"
       ]
      }
     ],
     "prompt_number": 17
    },
    {
     "cell_type": "markdown",
     "metadata": {},
     "source": [
      "* `n&(n-1)` is a usful trick here.\n",
      "* `n-1` makes all the `bits` < `last 1` have the opposite number\n",
      "* `n&(n-1)` stand for the counters of `1` here. "
     ]
    }
   ],
   "metadata": {}
  }
 ]
}