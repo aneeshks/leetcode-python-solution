{
 "metadata": {
  "name": "",
  "signature": "sha256:c8c268be14cd82361fc1de15251672d19a774cb044587560914f8247d965225d"
 },
 "nbformat": 3,
 "nbformat_minor": 0,
 "worksheets": [
  {
   "cells": [
    {
     "cell_type": "markdown",
     "metadata": {},
     "source": [
      "Given an array of integers, every element appears twice except for one. Find that single one.\n",
      "\n",
      "Note:\n",
      "Your algorithm should have a linear runtime complexity. Could you implement it without using extra memory?\n",
      "> Same idea with #1,"
     ]
    },
    {
     "cell_type": "code",
     "collapsed": false,
     "input": [
      "class Solution(object):\n",
      "    def singleNumber(self, nums):\n",
      "        \"\"\"\n",
      "        :type nums: List[int]\n",
      "        :rtype: int\n",
      "        \"\"\"\n",
      "        dic = {}\n",
      "        for i in nums:\n",
      "            if i in dic:\n",
      "                dic[i] = dic[i] + 1;\n",
      "            else:\n",
      "                dic[i] = -1;\n",
      "        for k,v in dic.items():\n",
      "            if v != 0 :\n",
      "                return k"
     ],
     "language": "python",
     "metadata": {},
     "outputs": [],
     "prompt_number": 2
    },
    {
     "cell_type": "code",
     "collapsed": false,
     "input": [],
     "language": "python",
     "metadata": {},
     "outputs": []
    }
   ],
   "metadata": {}
  }
 ]
}