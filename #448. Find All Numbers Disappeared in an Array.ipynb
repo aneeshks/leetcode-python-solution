{
 "metadata": {
  "name": "",
  "signature": "sha256:8710b0bb68dcc3503d74a41080d9eaa718b983b495638c521facee945a669bf2"
 },
 "nbformat": 3,
 "nbformat_minor": 0,
 "worksheets": [
  {
   "cells": [
    {
     "cell_type": "markdown",
     "metadata": {},
     "source": [
      "Given an array of integers where 1 \u2264 a[i] \u2264 n (n = size of array), some elements appear twice and others appear once.\n",
      "\n",
      "Find all the elements of [1, n] inclusive that do not appear in this array.\n",
      "\n",
      "Could you do it without extra space and in O(n) runtime? You may assume the returned list does not count as extra space."
     ]
    },
    {
     "cell_type": "code",
     "collapsed": false,
     "input": [
      "class Solution(object):\n",
      "    def findDisappearedNumbers(self, nums):\n",
      "        \"\"\"\n",
      "        :type nums: List[int]\n",
      "        :rtype: List[int]\n",
      "        \"\"\"\n",
      "        dic = {}\n",
      "        for i in nums:\n",
      "            if i in dic:\n",
      "                dic[i] = dic[i] + 1\n",
      "            else:\n",
      "                dic[i] = 1\n",
      "        re = []\n",
      "        for i in range(1, len(nums)+1):\n",
      "            if i not in dic:\n",
      "                re.append(i)\n",
      "        return re\n",
      "                "
     ],
     "language": "python",
     "metadata": {},
     "outputs": [],
     "prompt_number": 14
    },
    {
     "cell_type": "markdown",
     "metadata": {},
     "source": [
      "# clever idea below!!\n",
      "# we just need to set the index of original list and filter the idx.\n",
      "# only the repeat will be positive."
     ]
    },
    {
     "cell_type": "code",
     "collapsed": false,
     "input": [
      "class Solution(object):\n",
      "    def findDisappearedNumbers(self, nums):\n",
      "        \"\"\"\n",
      "        :type nums: List[int]\n",
      "        :rtype: List[int]\n",
      "        \"\"\"\n",
      "        # For each number i in nums,\n",
      "        # we mark the number that i points as negative.\n",
      "        # Then we filter the list, get all the indexes\n",
      "        # who points to a positive number\n",
      "        for i in range(0,len(nums)):\n",
      "            index = abs(nums[i]) - 1\n",
      "            nums[index] = - abs(nums[index])\n",
      "        return [i + 1 for i in range(len(nums)) if nums[i] > 0]\n",
      "    \n",
      "    \n",
      "s = Solution()\n",
      "w = s.findDisappearedNumbers([1,2,4,5,3,3,8,8]);\n",
      "\n",
      "print(w)"
     ],
     "language": "python",
     "metadata": {},
     "outputs": [
      {
       "output_type": "stream",
       "stream": "stdout",
       "text": [
        "[-1, -2, -4, -5, -3, 3, 8, -8]\n",
        "[6, 7]\n"
       ]
      }
     ],
     "prompt_number": 13
    }
   ],
   "metadata": {}
  }
 ]
}