{
 "metadata": {
  "name": "",
  "signature": "sha256:8ef1286fc1e5b67bb2d97d4a674b6a0d752cbb72b998f0cb216ebeea689aed11"
 },
 "nbformat": 3,
 "nbformat_minor": 0,
 "worksheets": [
  {
   "cells": [
    {
     "cell_type": "markdown",
     "metadata": {},
     "source": [
      "Given a binary tree, return the tilt of the whole tree.\n",
      "\n",
      "The tilt of a tree node is defined as the absolute difference between the sum of all left subtree node values and the sum of all right subtree node values. Null node has tilt 0.\n",
      "\n",
      "The tilt of the whole tree is defined as the sum of all nodes' tilt.\n",
      "\n",
      "Example:\n",
      "Input: \n",
      "         1\n",
      "       /   \\\n",
      "      2     3\n",
      "Output: 1\n",
      "Explanation: \n",
      "Tilt of node 2 : 0\n",
      "Tilt of node 3 : 0\n",
      "Tilt of node 1 : |2-3| = 1\n",
      "Tilt of binary tree : 0 + 0 + 1 = 1\n",
      "Note:\n",
      "\n",
      "The sum of node values in any subtree won't exceed the range of 32-bit integer.\n",
      "All the tilt values won't exceed the range of 32-bit integer."
     ]
    },
    {
     "cell_type": "code",
     "collapsed": false,
     "input": [
      "# Definition for a binary tree node.\n",
      "# class TreeNode(object):\n",
      "#     def __init__(self, x):\n",
      "#         self.val = x\n",
      "#         self.left = None\n",
      "#         self.right = None\n",
      "\n",
      "class Solution(object):\n",
      "    def findTilt(self, root):\n",
      "        def tilt(root):\n",
      "            # return (sum, tilt) of tree\n",
      "            if not root: return (0, 0)\n",
      "            left = tilt(root.left)\n",
      "            right = tilt(root.right)\n",
      "            return (left[0] + right[0] + root.val, abs(left[0] - right[0]) + left[1] + right[1])\n",
      "        return tilt(root)[1]"
     ],
     "language": "python",
     "metadata": {},
     "outputs": [],
     "prompt_number": 1
    },
    {
     "cell_type": "code",
     "collapsed": false,
     "input": [],
     "language": "python",
     "metadata": {},
     "outputs": []
    }
   ],
   "metadata": {}
  }
 ]
}