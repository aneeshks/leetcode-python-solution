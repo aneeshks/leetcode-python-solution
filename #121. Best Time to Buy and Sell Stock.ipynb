{
 "metadata": {
  "name": "",
  "signature": "sha256:ba13883fba42ec4b849f723418c335c0cf5d5b4a95ef93b36eb67852ae4432a2"
 },
 "nbformat": 3,
 "nbformat_minor": 0,
 "worksheets": [
  {
   "cells": [
    {
     "cell_type": "markdown",
     "metadata": {},
     "source": [
      "Say you have an array for which the ith element is the price of a given stock on day i.\n",
      "\n",
      "If you were only permitted to complete at most one transaction (ie, buy one and sell one share of the stock), design an algorithm to find the maximum profit."
     ]
    },
    {
     "cell_type": "code",
     "collapsed": false,
     "input": [
      "class Solution(object):\n",
      "    def maxProfit(self, prices):\n",
      "        \"\"\"\n",
      "        :type prices: List[int]\n",
      "        :rtype: int\n",
      "        \"\"\"\n",
      "        if len(prices) ==0:\n",
      "            return 0;\n",
      "        \n",
      "        best_diff = 0;\n",
      "        w = len(prices);\n",
      "        min_price = prices[0];\n",
      "        for i in range(w):\n",
      "            if prices[i] < min_price: # when current price < min price.\n",
      "                min_price = prices[i]; \n",
      "            if prices[i] - min_price > best_diff: # when (current price - min_price) larger than best_diff.\n",
      "                best_diff = prices[i] - min_price;\n",
      "                \n",
      "        return best_diff"
     ],
     "language": "python",
     "metadata": {},
     "outputs": [],
     "prompt_number": 2
    },
    {
     "cell_type": "code",
     "collapsed": false,
     "input": [],
     "language": "python",
     "metadata": {},
     "outputs": []
    }
   ],
   "metadata": {}
  }
 ]
}