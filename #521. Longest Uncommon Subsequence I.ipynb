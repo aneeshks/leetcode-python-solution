{
 "metadata": {
  "name": "",
  "signature": "sha256:ebeda7ca17e79879abc53a1e9d51f14d3b2ccbe4d7a6e20912634980efc21de3"
 },
 "nbformat": 3,
 "nbformat_minor": 0,
 "worksheets": [
  {
   "cells": [
    {
     "cell_type": "markdown",
     "metadata": {},
     "source": [
      "Given a group of two strings, you need to find the longest uncommon subsequence of this group of two strings. The longest uncommon subsequence is defined as the longest subsequence of one of these strings and this subsequence should not be any subsequence of the other strings.\n",
      "\n",
      "A subsequence is a sequence that can be derived from one sequence by deleting some characters without changing the order of the remaining elements. Trivially, any string is a subsequence of itself and an empty string is a subsequence of any string.\n",
      "\n",
      "The input will be two strings, and the output needs to be the length of the longest uncommon subsequence. If the longest uncommon subsequence doesn't exist, return -1.\n",
      "\n",
      "Example 1:\n",
      "Input: \"aba\", \"cdc\"\n",
      "Output: 3\n",
      "Explanation: The longest uncommon subsequence is \"aba\" (or \"cdc\"), \n",
      "because \"aba\" is a subsequence of \"aba\", \n",
      "but not a subsequence of any other strings in the group of two strings. \n",
      "Note:\n",
      "\n",
      "Both strings' lengths will not exceed 100.\n",
      "Only letters from a ~ z will appear in input strings."
     ]
    },
    {
     "cell_type": "code",
     "collapsed": false,
     "input": [
      "class Solution(object):\n",
      "    def findLUSlength(self, a, b):\n",
      "        \"\"\"\n",
      "        :type a: str\n",
      "        :type b: str\n",
      "        :rtype: int\n",
      "        \"\"\"\n",
      "        if a == b:\n",
      "            return -1;\n",
      "        return max(len(a),len(b))"
     ],
     "language": "python",
     "metadata": {},
     "outputs": [],
     "prompt_number": 1
    },
    {
     "cell_type": "markdown",
     "metadata": {},
     "source": [
      "**longest uncommon subsequence**\u3000is the longer of two strings because itself is also a subsequence."
     ]
    },
    {
     "cell_type": "code",
     "collapsed": false,
     "input": [],
     "language": "python",
     "metadata": {},
     "outputs": []
    }
   ],
   "metadata": {}
  }
 ]
}