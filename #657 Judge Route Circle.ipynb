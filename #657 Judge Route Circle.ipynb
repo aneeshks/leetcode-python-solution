{
 "metadata": {
  "name": "",
  "signature": "sha256:d6c4f355f95a8b30ec4b7bc31e67b037d3434bfa52cc836dcbb944b5d042020c"
 },
 "nbformat": 3,
 "nbformat_minor": 0,
 "worksheets": [
  {
   "cells": [
    {
     "cell_type": "markdown",
     "metadata": {},
     "source": [
      "Initially, there is a Robot at position (0, 0). Given a sequence of its moves, judge if this robot makes a circle, which means it moves back to the original place.\n",
      "\n",
      "The move sequence is represented by a string. And each move is represent by a character. The valid robot moves are R (Right), L (Left), U (Up) and D (down). The output should be true or false representing whether the robot makes a circle.\n",
      "\n",
      "Example 1:\n",
      "Input: \"UD\"\n",
      "Output: true\n",
      "Example 2:\n",
      "Input: \"LL\"\n",
      "Output: false\n"
     ]
    },
    {
     "cell_type": "code",
     "collapsed": false,
     "input": [
      "class Solution:\n",
      "    def judgeCircle(self, moves):\n",
      "        \"\"\"\n",
      "        :type moves: str\n",
      "        :rtype: bool\n",
      "        \"\"\"\n",
      "        R = 0;\n",
      "        L = 0;\n",
      "        U = 0;\n",
      "        D = 0;\n",
      "        for m in moves:\n",
      "            if m == 'R':\n",
      "                R = R+1;\n",
      "            if m == 'L':\n",
      "                L = L+1;\n",
      "            if m == 'U':\n",
      "                U = U+1;\n",
      "            if m == 'D':\n",
      "                D = D+1;\n",
      "        return (R-L)+(U-D) == 0\n",
      "    \n",
      "s = Solution();\n",
      "o=s.judgeCircle('LL')\n",
      "print(o)"
     ],
     "language": "python",
     "metadata": {},
     "outputs": [
      {
       "output_type": "stream",
       "stream": "stdout",
       "text": [
        "False\n"
       ]
      }
     ],
     "prompt_number": 6
    },
    {
     "cell_type": "code",
     "collapsed": false,
     "input": [
      "class Solution:\n",
      "    def judgeCircle(self, moves):\n",
      "        \"\"\"\n",
      "        :type moves: str\n",
      "        :rtype: bool\n",
      "        \"\"\"\n",
      "        return (moves.count('R') + moves.count('U') - moves.count('L')-moves.count('D'))==0\n",
      "    \n",
      "s = Solution();\n",
      "o=s.judgeCircle('UD')\n",
      "print(o)"
     ],
     "language": "python",
     "metadata": {},
     "outputs": [
      {
       "output_type": "stream",
       "stream": "stdout",
       "text": [
        "True\n"
       ]
      }
     ],
     "prompt_number": 14
    },
    {
     "cell_type": "code",
     "collapsed": false,
     "input": [],
     "language": "python",
     "metadata": {},
     "outputs": []
    }
   ],
   "metadata": {}
  }
 ]
}