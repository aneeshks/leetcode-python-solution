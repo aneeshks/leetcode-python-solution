{
 "metadata": {
  "name": "",
  "signature": "sha256:2f628ecb2a10e32abe419a67ccb33da75becc3b7efbc926acf894f8c0e1be123"
 },
 "nbformat": 3,
 "nbformat_minor": 0,
 "worksheets": [
  {
   "cells": [
    {
     "cell_type": "markdown",
     "metadata": {},
     "source": [
      "Write an algorithm to determine if a number is \"happy\".\n",
      "\n",
      "A happy number is a number defined by the following process: Starting with any positive integer, replace the number by the sum of the squares of its digits, and repeat the process until the number equals 1 (where it will stay), or it loops endlessly in a cycle which does not include 1. Those numbers for which this process ends in 1 are happy numbers."
     ]
    },
    {
     "cell_type": "code",
     "collapsed": false,
     "input": [
      "class Solution(object):\n",
      "    def isHappy(self, n):\n",
      "        \"\"\"\n",
      "        :type n: int\n",
      "        :rtype: bool\n",
      "        \"\"\"\n",
      "        if n == 1 :\n",
      "            return True\n",
      "        if n < 6:\n",
      "            return False\n",
      "       \n",
      "        sumx = 0;\n",
      "        for i in str(n):\n",
      "            sumx = sumx + int(i)*int(i);\n",
      "        \n",
      "        return self.isHappy(sumx)"
     ],
     "language": "python",
     "metadata": {},
     "outputs": [],
     "prompt_number": 2
    },
    {
     "cell_type": "code",
     "collapsed": false,
     "input": [],
     "language": "python",
     "metadata": {},
     "outputs": []
    }
   ],
   "metadata": {}
  }
 ]
}