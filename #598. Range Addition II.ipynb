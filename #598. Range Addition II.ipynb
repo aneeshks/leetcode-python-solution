{
 "metadata": {
  "name": "",
  "signature": "sha256:bf1e64962b865ab76ad536fe6c256122eb5f7f13870ac1b1347ea4502f041421"
 },
 "nbformat": 3,
 "nbformat_minor": 0,
 "worksheets": [
  {
   "cells": [
    {
     "cell_type": "markdown",
     "metadata": {},
     "source": [
      "Given an m * n matrix M initialized with all 0's and several update operations.\n",
      "\n",
      "Operations are represented by a 2D array, and each operation is represented by an array with two positive integers a and b, which means M[i][j] should be added by one for all 0 <= i < a and 0 <= j < b.\n",
      "\n",
      "You need to count and return the number of maximum integers in the matrix after performing all the operations."
     ]
    },
    {
     "cell_type": "code",
     "collapsed": false,
     "input": [
      "class Solution(object):\n",
      "    def maxCount(self, m, n, ops):\n",
      "        \"\"\"\n",
      "        :type m: int\n",
      "        :type n: int\n",
      "        :type ops: List[List[int]]\n",
      "        :rtype: int\n",
      "        \"\"\"\n",
      "        mmin = m;\n",
      "        nmin = n;\n",
      "        for i in ops:\n",
      "            #print(i)\n",
      "            if i[0] < mmin:\n",
      "                mmin = i[0];\n",
      "            if i[1] < nmin:\n",
      "                nmin = i[1];\n",
      "        return mmin*nmin;\n",
      "            "
     ],
     "language": "python",
     "metadata": {},
     "outputs": [],
     "prompt_number": 1
    },
    {
     "cell_type": "code",
     "collapsed": false,
     "input": [],
     "language": "python",
     "metadata": {},
     "outputs": []
    }
   ],
   "metadata": {}
  }
 ]
}