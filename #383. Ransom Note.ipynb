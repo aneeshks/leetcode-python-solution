{
 "metadata": {
  "name": "",
  "signature": "sha256:a486b83c8815250d5ad8022d69db91be4a9797ae2e6e5f3631ce8a63988f6061"
 },
 "nbformat": 3,
 "nbformat_minor": 0,
 "worksheets": [
  {
   "cells": [
    {
     "cell_type": "markdown",
     "metadata": {},
     "source": [
      "Given an arbitrary ransom note string and another string containing letters from all the magazines, write a function that will return true if the ransom note can be constructed from the magazines ; otherwise, it will return false.\n",
      "\n",
      "Each letter in the magazine string can only be used once in your ransom note."
     ]
    },
    {
     "cell_type": "code",
     "collapsed": false,
     "input": [
      "class Solution(object):\n",
      "    def canConstruct(self, ransomNote, magazine):\n",
      "        \"\"\"\n",
      "        :type ransomNote: str\n",
      "        :type magazine: str\n",
      "        :rtype: bool\n",
      "        \"\"\"\n",
      "      #  print(collections.Counter(ransomNote) - collections.Counter(magazine))\n",
      "        return not collections.Counter(ransomNote) - collections.Counter(magazine)"
     ],
     "language": "python",
     "metadata": {},
     "outputs": [],
     "prompt_number": 1
    },
    {
     "cell_type": "code",
     "collapsed": false,
     "input": [
      "class Solution(object):\n",
      "    def canConstruct(self, ransomNote, magazine):\n",
      "        \"\"\"\n",
      "        :type ransomNote: str\n",
      "        :type magazine: str\n",
      "        :rtype: bool\n",
      "        \"\"\"\n",
      "        dic = {}\n",
      "        mm = len(ransomNote)\n",
      "        for i in magazine:\n",
      "            if i in dic:\n",
      "                dic[i] = dic[i] + 1;\n",
      "            else:\n",
      "                dic[i] = 1\n",
      "        for i in ransomNote:\n",
      "            if i in dic:\n",
      "                dic[i] = dic[i] - 1;\n",
      "                mm  = mm - 1;\n",
      "                if dic[i] < 0 :\n",
      "                    return False;\n",
      "            else:\n",
      "                return False;\n",
      "            \n",
      "        return mm == 0"
     ],
     "language": "python",
     "metadata": {},
     "outputs": [],
     "prompt_number": 2
    },
    {
     "cell_type": "code",
     "collapsed": false,
     "input": [
      "# although hash based method is not clear as collections based method, it is faster."
     ],
     "language": "python",
     "metadata": {},
     "outputs": [],
     "prompt_number": 3
    }
   ],
   "metadata": {}
  }
 ]
}