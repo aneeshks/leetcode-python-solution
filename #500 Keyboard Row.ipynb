{
 "metadata": {
  "name": "",
  "signature": "sha256:b5d7d91d4c88781ae73bb91974280ef58d7fd354ffb6c889e8256bf7340ba9fa"
 },
 "nbformat": 3,
 "nbformat_minor": 0,
 "worksheets": [
  {
   "cells": [
    {
     "cell_type": "markdown",
     "metadata": {},
     "source": [
      "Given a List of words, return the words that can be typed using letters of alphabet on only one row's of American keyboard like the image below.\n",
      "\n",
      "Example 1:\n",
      "Input: [\"Hello\", \"Alaska\", \"Dad\", \"Peace\"]\n",
      "Output: [\"Alaska\", \"Dad\"]\n",
      "Note:\n",
      "You may use one character in the keyboard more than once.\n",
      "You may assume the input string will only contain letters of alphabet."
     ]
    },
    {
     "cell_type": "code",
     "collapsed": false,
     "input": [
      "class Solution(object):\n",
      "    def findWords(self, words):\n",
      "        \"\"\"\n",
      "        :type words: List[str]\n",
      "        :rtype: List[str]\n",
      "        \"\"\"\n",
      "        dicz = {'z','x','c','v','b','n','m'};\n",
      "        dica = {'a','s','d','f','g','h','j','k','l'};\n",
      "        dicq = {'q','w','e','r','t','y','u','i','o','p'};\n",
      "        re = [];\n",
      "        for Word in words:\n",
      "            countz = 0;\n",
      "            counta = 0;\n",
      "            countq = 0;\n",
      "            word = Word.lower()\n",
      "            for dic in dicz:\n",
      "                countz = countz + word.count(dic);   \n",
      "            for dic in dica:        \n",
      "                counta = counta + word.count(dic);  \n",
      "            for dic in dicq:        \n",
      "                countq = countq + word.count(dic);\n",
      "            if countz == len(word) or counta == len(word) or countq == len(word):\n",
      "                re.append(Word)\n",
      "        return re        "
     ],
     "language": "python",
     "metadata": {},
     "outputs": [],
     "prompt_number": 2
    },
    {
     "cell_type": "code",
     "collapsed": false,
     "input": [],
     "language": "python",
     "metadata": {},
     "outputs": []
    }
   ],
   "metadata": {}
  }
 ]
}