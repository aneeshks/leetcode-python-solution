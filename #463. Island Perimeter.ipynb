{
 "metadata": {
  "name": "",
  "signature": "sha256:98dd8b0e5f1d879b142e887b7215cd269dc6bcfb3c043eeec32bde697795956a"
 },
 "nbformat": 3,
 "nbformat_minor": 0,
 "worksheets": [
  {
   "cells": [
    {
     "cell_type": "markdown",
     "metadata": {},
     "source": [
      "You are given a map in form of a two-dimensional integer grid where 1 represents land and 0 represents water. Grid cells are connected horizontally/vertically (not diagonally). The grid is completely surrounded by water, and there is exactly one island (i.e., one or more connected land cells). The island doesn't have \"lakes\" (water inside that isn't connected to the water around the island). One cell is a square with side length 1. The grid is rectangular, width and height don't exceed 100. Determine the perimeter of the island.\n",
      "\n",
      "Example:\n",
      "\n",
      "[[0,1,0,0],\n",
      " [1,1,1,0],\n",
      " [0,1,0,0],\n",
      " [1,1,0,0]]\n",
      "\n",
      "Answer: 16\n",
      "Explanation: The perimeter is the 16 yellow stripes in the image below:"
     ]
    },
    {
     "cell_type": "code",
     "collapsed": false,
     "input": [
      "class Solution(object):\n",
      "    def islandPerimeter(self, grid):\n",
      "        \"\"\"\n",
      "        :type grid: List[List[int]]\n",
      "        :rtype: int\n",
      "        \"\"\"\n",
      "        island = 0; # 0\n",
      "        neighbor = 0; # 3\n",
      "        \n",
      "        for y in range(len(grid)):\n",
      "            for x in range(len(grid[y])):\n",
      "                if grid[y][x] == 1:\n",
      "                    island = island + 1\n",
      "                    if x < len(grid[y])-1 and grid[y][x+1] == 1:\n",
      "                        neighbor = neighbor + 1\n",
      "                    if y < len(grid ) -1 and grid[y+1][x] == 1:\n",
      "                        neighbor = neighbor + 1\n",
      "        return island*4 - 2*neighbor;"
     ],
     "language": "python",
     "metadata": {},
     "outputs": [],
     "prompt_number": 1
    },
    {
     "cell_type": "markdown",
     "metadata": {},
     "source": [
      "* It is an interesting problem.\n",
      "* The naive way is just count every situation here.\n",
      "* This is better way to do it.\n",
      "* we count the right and bottom neighborhood when we are in the island.\n",
      "* this means we count the left and top neighborhood for neighbor which will be remove in the total parameters.\n",
      "* brilliant"
     ]
    },
    {
     "cell_type": "code",
     "collapsed": false,
     "input": [],
     "language": "python",
     "metadata": {},
     "outputs": []
    }
   ],
   "metadata": {}
  }
 ]
}