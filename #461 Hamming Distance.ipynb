{
 "metadata": {
  "name": "",
  "signature": "sha256:92096aad4f5e3f218c98f683560094f5033464766e1e8dcdfbcc2ed48f50aeb7"
 },
 "nbformat": 3,
 "nbformat_minor": 0,
 "worksheets": [
  {
   "cells": [
    {
     "cell_type": "markdown",
     "metadata": {},
     "source": [
      "The Hamming distance between two integers is the number of positions at which the corresponding bits are different.\n",
      "\n",
      "Given two integers x and y, calculate the Hamming distance.\n",
      "\n",
      "Note:\n",
      "0 \u2264 x, y < 231.\n",
      "\n",
      "Example:\n",
      "\n",
      "Input: x = 1, y = 4\n",
      "\n",
      "Output: 2\n",
      "\n",
      "Explanation:\n",
      "1   (0 0 0 1)\n",
      "4   (0 1 0 0)\n",
      "       \u2191   \u2191\n",
      "\n",
      "The above arrows point to positions where the corresponding bits are different."
     ]
    },
    {
     "cell_type": "code",
     "collapsed": false,
     "input": [
      "class Solution(object):\n",
      "    def hammingDistance(self, x, y):\n",
      "        \"\"\"\n",
      "        :type x: int\n",
      "        :type y: int\n",
      "        :rtype: int\n",
      "        \"\"\"\n",
      "        lst = str(bin(x^y))[2:]\n",
      "        sum = 0;\n",
      "        for i in lst:\n",
      "            sum = sum + int(i)\n",
      "        return sum\n",
      "\n",
      "ss = Solution()\n",
      "\n",
      "o = ss.hammingDistance(4,1);\n",
      "\n",
      "print(o)"
     ],
     "language": "python",
     "metadata": {},
     "outputs": [
      {
       "output_type": "stream",
       "stream": "stdout",
       "text": [
        "2\n"
       ]
      }
     ],
     "prompt_number": 16
    },
    {
     "cell_type": "markdown",
     "metadata": {},
     "source": [
      "By reusing the x and y, a nicer solution is here:\n",
      "y count the number of `1` in the results and x,\n",
      "`x & (x - 1)` make sure the results until all the binary in x equals `0`."
     ]
    },
    {
     "cell_type": "code",
     "collapsed": false,
     "input": [
      "class Solution(object):\n",
      "    def hammingDistance(self, x, y):\n",
      "        \"\"\"\n",
      "        :type x: int\n",
      "        :type y: int\n",
      "        :rtype: int\n",
      "        \"\"\"\n",
      "        x = x ^ y\n",
      "        y = 0\n",
      "        while x:\n",
      "            print(bin(x))\n",
      "            y += 1\n",
      "            x = x & (x - 1)\n",
      "        return y\n",
      "    \n",
      "\n",
      "ss = Solution()\n",
      "\n",
      "o = ss.hammingDistance(4,1);\n",
      "\n",
      "print(o)    "
     ],
     "language": "python",
     "metadata": {},
     "outputs": [
      {
       "output_type": "stream",
       "stream": "stdout",
       "text": [
        "0b101\n",
        "0b100\n",
        "2\n"
       ]
      }
     ],
     "prompt_number": 19
    },
    {
     "cell_type": "code",
     "collapsed": false,
     "input": [],
     "language": "python",
     "metadata": {},
     "outputs": []
    }
   ],
   "metadata": {}
  }
 ]
}