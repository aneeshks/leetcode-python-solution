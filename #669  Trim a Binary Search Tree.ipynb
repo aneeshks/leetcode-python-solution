{
 "metadata": {
  "name": "",
  "signature": "sha256:81881e87b8881f3f9f32841be7211bd2e65518607ae2e20a8c86325ac3f9699d"
 },
 "nbformat": 3,
 "nbformat_minor": 0,
 "worksheets": [
  {
   "cells": [
    {
     "cell_type": "markdown",
     "metadata": {},
     "source": [
      "Given a binary search tree and the lowest and highest boundaries as L and R, trim the tree so that all its elements lies in [L, R] (R >= L). You might need to change the root of the tree, so the result should return the new root of the trimmed binary search tree."
     ]
    },
    {
     "cell_type": "code",
     "collapsed": false,
     "input": [
      "# Definition for a binary tree node.\n",
      "class TreeNode(object):\n",
      "    def __init__(self, x):\n",
      "        self.val = x\n",
      "        self.left = None\n",
      "        self.right = None\n",
      "\n",
      "class Solution(object):\n",
      "    def trimBST(self, root, L, R):\n",
      "        \"\"\"\n",
      "        :type root: TreeNode\n",
      "        :type L: int\n",
      "        :type R: int\n",
      "        :rtype: TreeNode\n",
      "        \"\"\"\n",
      "        \n",
      "        if root == None:\n",
      "            return None;\n",
      "        \n",
      "        print(root.val)\n",
      "        \n",
      "        if root.val >= L and root.val <= R : # if current_item in range\n",
      "            root.left =  self.trimBST(root.left,  L, R)\n",
      "            root.right = self.trimBST(root.right, L, R) \n",
      "            return root;\n",
      "        else:\n",
      "            # if root have children\n",
      "            # if root.right or root.left:\n",
      "            if self.trimBST(root.left, L, R):\n",
      "                return self.trimBST(root.left, L, R);\n",
      "            elif self.trimBST(root.right, L, R):\n",
      "                return self.trimBST(root.right, L, R);\n",
      "            else:\n",
      "                return None\n",
      "            # return root;\n",
      "        \n",
      "\n",
      "      "
     ],
     "language": "python",
     "metadata": {},
     "outputs": [],
     "prompt_number": 2
    },
    {
     "cell_type": "markdown",
     "metadata": {},
     "source": [
      "About the tree, experimently, we need to solve this problem by recursive.\n",
      "\n",
      "In this problem, it can be think as the three four part of problem:\n",
      "\n",
      "1. if currentNode in `[L,R]`, we just return the current node and perform the trim to their children.\n",
      "2. or if currentNode not in `[L,R]` and currentNode has children, return the children.\n",
      "3. otherwise return `None`."
     ]
    },
    {
     "cell_type": "code",
     "collapsed": false,
     "input": [],
     "language": "python",
     "metadata": {},
     "outputs": []
    }
   ],
   "metadata": {}
  }
 ]
}