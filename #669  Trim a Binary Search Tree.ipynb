{
 "metadata": {
  "name": "",
  "signature": "sha256:9f530fbb1cc7efdb1755779c43acb09c57d03af6279110bd3f8535f24803de60"
 },
 "nbformat": 3,
 "nbformat_minor": 0,
 "worksheets": [
  {
   "cells": [
    {
     "cell_type": "markdown",
     "metadata": {},
     "source": [
      "Given a binary search tree and the lowest and highest boundaries as L and R, trim the tree so that all its elements lies in [L, R] (R >= L). You might need to change the root of the tree, so the result should return the new root of the trimmed binary search tree."
     ]
    },
    {
     "cell_type": "code",
     "collapsed": false,
     "input": [
      "# Definition for a binary tree node.\n",
      "class TreeNode(object):\n",
      "    def __init__(self, x):\n",
      "        self.val = x\n",
      "        self.left = None\n",
      "        self.right = None\n",
      "\n",
      "class Solution(object):\n",
      "    def trimBST(self, root, L, R):\n",
      "        \"\"\"\n",
      "        :type root: TreeNode\n",
      "        :type L: int\n",
      "        :type R: int\n",
      "        :rtype: TreeNode\n",
      "        \"\"\"\n",
      "        \n",
      "        if root == None:\n",
      "            return None;\n",
      "        \n",
      "        print(root.val)\n",
      "        \n",
      "        if root.val >= L and root.val <= R : # if current_item in range\n",
      "            root.left =  self.trimBST(root.left,  L, R)\n",
      "            root.right = self.trimBST(root.right, L, R) \n",
      "            return root;\n",
      "        else:\n",
      "            # if root have children\n",
      "            # if root.right or root.left:\n",
      "            if self.trimBST(root.left, L, R):\n",
      "                return self.trimBST(root.left, L, R);\n",
      "            elif self.trimBST(root.right, L, R):\n",
      "                return self.trimBST(root.right, L, R);\n",
      "            else:\n",
      "                return None\n",
      "            # return root;\n",
      "        \n",
      "\n",
      "      "
     ],
     "language": "python",
     "metadata": {},
     "outputs": [],
     "prompt_number": 2
    },
    {
     "cell_type": "markdown",
     "metadata": {},
     "source": [
      "About the tree, experimently, we need to solve this problem by recursive.\n",
      "\n",
      "In this problem, it can be think as the three four part of problem:\n",
      "\n",
      "1. if `root.val` in `[L,R]`, we just return the current root and perform the trim to the childs.\n",
      "2. or if current Node"
     ]
    }
   ],
   "metadata": {}
  }
 ]
}