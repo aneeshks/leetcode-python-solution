{
 "metadata": {
  "name": "",
  "signature": "sha256:f539bf2d82d076e069b5d2e527ec895851c70d7c5f8ad2baa431c46c125d8149"
 },
 "nbformat": 3,
 "nbformat_minor": 0,
 "worksheets": [
  {
   "cells": [
    {
     "cell_type": "markdown",
     "metadata": {},
     "source": [
      "Given a binary search tree and the lowest and highest boundaries as L and R, trim the tree so that all its elements lies in [L, R] (R >= L). You might need to change the root of the tree, so the result should return the new root of the trimmed binary search tree."
     ]
    },
    {
     "cell_type": "code",
     "collapsed": false,
     "input": [
      "# Definition for a binary tree node.\n",
      "class TreeNode(object):\n",
      "    def __init__(self, x):\n",
      "        self.val = x\n",
      "        self.left = None\n",
      "        self.right = None\n",
      "\n",
      "class Solution(object):\n",
      "    def trimBST(self, root, L, R):\n",
      "        \"\"\"\n",
      "        :type root: TreeNode\n",
      "        :type L: int\n",
      "        :type R: int\n",
      "        :rtype: TreeNode\n",
      "        \"\"\"\n",
      "        \n",
      "        if root == None:\n",
      "            return None;\n",
      "        \n",
      "        print(root.val)\n",
      "        \n",
      "        if root.val >= L and root.val <= R : # if current_item in range\n",
      "            root.left =  self.trimBST(root.left,  L, R)\n",
      "            root.right = self.trimBST(root.right, L, R) \n",
      "            return root;\n",
      "        else:\n",
      "            # if root have children\n",
      "            # if root.right or root.left:\n",
      "            if self.trimBST(root.left, L, R):\n",
      "                return self.trimBST(root.left, L, R);\n",
      "            elif self.trimBST(root.right, L, R):\n",
      "                return self.trimBST(root.right, L, R);\n",
      "            else:\n",
      "                return None\n",
      "            # return root;\n",
      "        \n",
      "\n",
      "      "
     ],
     "language": "python",
     "metadata": {},
     "outputs": [],
     "prompt_number": 2
    },
    {
     "cell_type": "markdown",
     "metadata": {},
     "source": [
      "About the tree, experimently, we need to solve this problem by recursive.\n",
      "\n",
      "In this problem, it can be think as the three four part of problem:\n",
      "\n",
      "1. if currentNode in `[L,R]`, we just return the current node and perform the trim to their children.\n",
      "2. or if currentNode not in `[L,R]` and currentNode has children, return the children.\n",
      "3. otherwise return `None`."
     ]
    },
    {
     "cell_type": "code",
     "collapsed": false,
     "input": [
      "class Solution(object):\n",
      "    def trimBST(self, root, L, R):\n",
      "        \"\"\"\n",
      "        :type root: TreeNode\n",
      "        :type L: int\n",
      "        :type R: int\n",
      "        :rtype: TreeNode\n",
      "        \"\"\"\n",
      "        if not root:\n",
      "            return None\n",
      "        if L > root.val:\n",
      "            return self.trimBST(root.right, L, R)\n",
      "        elif R < root.val:\n",
      "            return self.trimBST(root.left, L, R)\n",
      "        root.left = self.trimBST(root.left, L, R)\n",
      "        root.right = self.trimBST(root.right, L, R)\n",
      "        return root"
     ],
     "language": "python",
     "metadata": {},
     "outputs": [],
     "prompt_number": 1
    },
    {
     "cell_type": "markdown",
     "metadata": {},
     "source": [
      "A clear solution can be found above.\n",
      "Because of the property of binary search tree, `L_child<R_child`, and L is the low bound of current item, if ` L > root.val`, all the children of `root.left` smaller than L. and if `R < root.val`, all the children of `root.right` bigger than R.\n",
      "A more detail of binary search tree in [wiki](https://en.wikipedia.org/wiki/Binary_search_tree)"
     ]
    },
    {
     "cell_type": "code",
     "collapsed": false,
     "input": [],
     "language": "python",
     "metadata": {},
     "outputs": []
    }
   ],
   "metadata": {}
  }
 ]
}