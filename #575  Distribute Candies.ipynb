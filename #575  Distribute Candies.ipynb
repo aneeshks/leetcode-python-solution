{
 "metadata": {
  "name": "",
  "signature": "sha256:9fc8ca1de1d20abd4325f8dd5542e4c7d3d5e645c5f64943d8a38ef61d354598"
 },
 "nbformat": 3,
 "nbformat_minor": 0,
 "worksheets": [
  {
   "cells": [
    {
     "cell_type": "markdown",
     "metadata": {},
     "source": [
      "Given an integer array with even length, where different numbers in this array represent different kinds of candies. Each number means one candy of the corresponding kind. You need to distribute these candies equally in number to brother and sister. Return the maximum number of kinds of candies the sister could gain.\n",
      "\n",
      "Example 1:\n",
      "Input: candies = [1,1,2,2,3,3]\n",
      "Output: 3\n",
      "Explanation:\n",
      "There are three different kinds of candies (1, 2 and 3), and two candies for each kind.\n",
      "Optimal distribution: The sister has candies [1,2,3] and the brother has candies [1,2,3], too. \n",
      "The sister has three different kinds of candies. \n",
      "Example 2:\n",
      "Input: candies = [1,1,2,3]\n",
      "Output: 2\n",
      "Explanation: For example, the sister has candies [2,3] and the brother has candies [1,1]. \n",
      "The sister has two different kinds of candies, the brother has only one kind of candies. \n",
      "Note:\n",
      "\n",
      "The length of the given array is in range [2, 10,000], and will be even.\n",
      "The number in given array is in range [-100,000, 100,000]."
     ]
    },
    {
     "cell_type": "code",
     "collapsed": false,
     "input": [
      "class Solution(object):\n",
      "    def distributeCandies(self, candies):\n",
      "        \"\"\"\n",
      "        :type candies: List[int]\n",
      "        :rtype: int\n",
      "        \"\"\"\n",
      "        # find the counts in half of the array. \n",
      "        dic = {}\n",
      "        for candy in candies:\n",
      "            if candy not in dic:\n",
      "                dic[candy] = 1;\n",
      "            else:\n",
      "                dic[candy] = dic[candy] + 1;\n",
      "        return len(candies)/2 if len(dic) > len(candies)/2 else len(dic)       "
     ],
     "language": "python",
     "metadata": {},
     "outputs": [],
     "prompt_number": 2
    },
    {
     "cell_type": "markdown",
     "metadata": {},
     "source": [
      "> `len(set(candies))` is faster than for loop of hashmap when find the unique set."
     ]
    },
    {
     "cell_type": "code",
     "collapsed": false,
     "input": [
      "class Solution(object):\n",
      "    def distributeCandies(self, candies):\n",
      "        return min(len(candies) / 2, len(set(candies)))     "
     ],
     "language": "python",
     "metadata": {},
     "outputs": [],
     "prompt_number": 3
    },
    {
     "cell_type": "code",
     "collapsed": false,
     "input": [],
     "language": "python",
     "metadata": {},
     "outputs": []
    }
   ],
   "metadata": {}
  }
 ]
}