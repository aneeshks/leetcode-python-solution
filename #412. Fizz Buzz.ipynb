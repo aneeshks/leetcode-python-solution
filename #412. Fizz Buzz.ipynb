{
 "metadata": {
  "name": "",
  "signature": "sha256:a512ac0250fcc78fef3cf3e9335e3d8d539377479deccca0e7cd0ef4a618bca1"
 },
 "nbformat": 3,
 "nbformat_minor": 0,
 "worksheets": [
  {
   "cells": [
    {
     "cell_type": "markdown",
     "metadata": {},
     "source": [
      "Write a program that outputs the string representation of numbers from 1 to n.\n",
      "\n",
      "But for multiples of three it should output \u201cFizz\u201d instead of the number and for the multiples of five output \u201cBuzz\u201d. For numbers which are multiples of both three and five output \u201cFizzBuzz\u201d."
     ]
    },
    {
     "cell_type": "code",
     "collapsed": false,
     "input": [
      "class Solution(object):\n",
      "    def fizzBuzz(self, n):\n",
      "        \"\"\"\n",
      "        :type n: int\n",
      "        :rtype: List[str]\n",
      "        \"\"\"\n",
      "        re = [];\n",
      "        for i in range(1,n+1):\n",
      "            if i % 3 ==0 and i % 5==0:\n",
      "                re.append(\"FizzBuzz\")\n",
      "            elif i % 5 == 0:\n",
      "                re.append(\"Buzz\")\n",
      "            elif i % 3 == 0:\n",
      "                re.append(\"Fizz\")\n",
      "            else:\n",
      "                re.append(str(i))\n",
      "                \n",
      "        return re"
     ],
     "language": "python",
     "metadata": {},
     "outputs": [],
     "prompt_number": 1
    },
    {
     "cell_type": "code",
     "collapsed": false,
     "input": [],
     "language": "python",
     "metadata": {},
     "outputs": []
    }
   ],
   "metadata": {}
  }
 ]
}