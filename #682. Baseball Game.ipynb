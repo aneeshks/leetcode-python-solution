{
 "metadata": {
  "name": "",
  "signature": "sha256:bcce06876efa7ede2ee0144ae503bb2444d1ac5085bf43a991f5a1e0c92e6a9e"
 },
 "nbformat": 3,
 "nbformat_minor": 0,
 "worksheets": [
  {
   "cells": [
    {
     "cell_type": "markdown",
     "metadata": {},
     "source": [
      "You're now a baseball game point recorder.\n",
      "\n",
      "Given a list of strings, each string can be one of the 4 following types:\n",
      "\n",
      "Integer (one round's score): Directly represents the number of points you get in this round.\n",
      "\"+\" (one round's score): Represents that the points you get in this round are the sum of the last two valid round's points.\n",
      "\"D\" (one round's score): Represents that the points you get in this round are the doubled data of the last valid round's points.\n",
      "\"C\" (an operation, which isn't a round's score): Represents the last valid round's points you get were invalid and should be removed.\n",
      "Each round's operation is permanent and could have an impact on the round before and the round after.\n",
      "\n",
      "You need to return the sum of the points you could get in all the rounds."
     ]
    },
    {
     "cell_type": "code",
     "collapsed": false,
     "input": [
      "class Solution(object):\n",
      "    def calPoints(self, ops):\n",
      "        \"\"\"\n",
      "        :type ops: List[str]\n",
      "        :rtype: int\n",
      "        \"\"\"\n",
      "        vaild = [];\n",
      "        \n",
      "        s = 0;\n",
      "        for i in ops:\n",
      "            if re.match('^-*[0-9]+$',i) :\n",
      "                s = s + int(i);\n",
      "                vaild.append( int(i) );\n",
      "            if i == 'C':\n",
      "                s = s - vaild[len(vaild)-1];\n",
      "                vaild.pop();\n",
      "            if i == 'D':\n",
      "                s = s + vaild[len(vaild)-1]*2;\n",
      "                vaild.append(vaild[len(vaild)-1]*2);\n",
      "            if i == '+':\n",
      "                s = s + vaild[len(vaild)-1] + vaild[len(vaild)-2]\n",
      "                vaild.append(vaild[len(vaild)-1] + vaild[len(vaild)-2])\n",
      "        return s"
     ],
     "language": "python",
     "metadata": {},
     "outputs": [],
     "prompt_number": 6
    },
    {
     "cell_type": "code",
     "collapsed": false,
     "input": [
      "## i.isnumberic() or i.isdigit() only return True when it's the positive numbers."
     ],
     "language": "python",
     "metadata": {},
     "outputs": [],
     "prompt_number": 7
    },
    {
     "cell_type": "code",
     "collapsed": false,
     "input": [],
     "language": "python",
     "metadata": {},
     "outputs": []
    }
   ],
   "metadata": {}
  }
 ]
}