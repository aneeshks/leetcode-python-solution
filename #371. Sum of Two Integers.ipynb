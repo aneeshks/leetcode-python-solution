{
 "metadata": {
  "name": "",
  "signature": "sha256:81d30800de63d2ace7b76e88d6280f7bb778d1f5bf7538b0337b830e20604db0"
 },
 "nbformat": 3,
 "nbformat_minor": 0,
 "worksheets": [
  {
   "cells": [
    {
     "cell_type": "markdown",
     "metadata": {},
     "source": [
      "Calculate the sum of two integers a and b, but you are not allowed to use the operator + and -.\n",
      "\n",
      "Example:\n",
      "Given a = 1 and b = 2, return 3."
     ]
    },
    {
     "cell_type": "code",
     "collapsed": false,
     "input": [
      "class Solution(object):\n",
      "    def getSum(self, a, b):\n",
      "        \"\"\"\n",
      "        :type a: int\n",
      "        :type b: int\n",
      "        :rtype: int\n",
      "        \"\"\"\n",
      "        # 32 bits integer max\n",
      "        MAX = 0x7FFFFFFF\n",
      "        # 32 bits interger min\n",
      "        MIN = 0x80000000\n",
      "        # mask to get last 32 bits\n",
      "        mask = 0xFFFFFFFF\n",
      "        while b != 0:\n",
      "            # ^ get different bits and & gets double 1s, << moves carry\n",
      "            a, b = (a ^ b) & mask, ((a & b) << 1) & mask\n",
      "            print(bin(a),bin(b))\n",
      "        # if a is negative, get a's 32 bits complement positive first\n",
      "        # then get 32-bit positive's Python complement negative\n",
      "        return a if a <= MAX else ~(a ^ mask)\n",
      "    \n",
      "s = Solution()\n",
      "s.getSum(10,2);"
     ],
     "language": "python",
     "metadata": {},
     "outputs": [
      {
       "output_type": "stream",
       "stream": "stdout",
       "text": [
        "0b1000 0b100\n",
        "0b1100 0b0\n"
       ]
      }
     ],
     "prompt_number": 4
    },
    {
     "cell_type": "markdown",
     "metadata": {},
     "source": [
      "1. the inner law of sum in binary: if a and b is the same, return 0 in current bit, else return 1. $ a&b << 1 $  return the carry of number.\n",
      "2. the maximum integer is 32 bits in python: $2^{32-1}$ AKA. $ FFFFFFFF-1 = 0x7fffffff$;\n",
      "3. $a,b = f(a),f(b)$ in python means $a = f(a), b = f(b)$\n",
      "4. $XOR(a,b)$\u3000means the different bits in a and b, $AND(a,b)$ get the $1$ in b.\n"
     ]
    },
    {
     "cell_type": "code",
     "collapsed": false,
     "input": [
      "print(int(0x80000000))"
     ],
     "language": "python",
     "metadata": {},
     "outputs": [
      {
       "output_type": "stream",
       "stream": "stdout",
       "text": [
        "2147483648\n"
       ]
      }
     ],
     "prompt_number": 2
    },
    {
     "cell_type": "code",
     "collapsed": false,
     "input": [],
     "language": "python",
     "metadata": {},
     "outputs": []
    }
   ],
   "metadata": {}
  }
 ]
}