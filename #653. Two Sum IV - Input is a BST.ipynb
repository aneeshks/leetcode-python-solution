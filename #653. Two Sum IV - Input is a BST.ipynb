{
 "metadata": {
  "name": "",
  "signature": "sha256:beb2acb38d7b7e9a164e63ba8f8b98ec5cfb921175622c1c9f07c2aa5385c768"
 },
 "nbformat": 3,
 "nbformat_minor": 0,
 "worksheets": [
  {
   "cells": [
    {
     "cell_type": "markdown",
     "metadata": {},
     "source": [
      "Given a Binary Search Tree and a target number, return true if there exist two elements in the BST such that their sum is equal to the given target."
     ]
    },
    {
     "cell_type": "code",
     "collapsed": false,
     "input": [
      "# Definition for a binary tree node.\n",
      "# class TreeNode(object):\n",
      "#     def __init__(self, x):\n",
      "#         self.val = x\n",
      "#         self.left = None\n",
      "#         self.right = None\n",
      "\n",
      "class Solution(object):\n",
      "    def findTarget(self, root, k):\n",
      "        if not root: return False\n",
      "        bfs, s = [root], set()\n",
      "        for i in bfs:\n",
      "            if k - i.val in s: return True\n",
      "            s.add(i.val)\n",
      "            if i.left: bfs.append(i.left)\n",
      "            if i.right: bfs.append(i.right)\n",
      "        return False\n",
      "        \n",
      "            "
     ],
     "language": "python",
     "metadata": {},
     "outputs": [],
     "prompt_number": 1
    },
    {
     "cell_type": "markdown",
     "metadata": {},
     "source": [
      "# if we want to create an unique dic, make it a set."
     ]
    },
    {
     "cell_type": "code",
     "collapsed": false,
     "input": [],
     "language": "python",
     "metadata": {},
     "outputs": []
    }
   ],
   "metadata": {}
  }
 ]
}