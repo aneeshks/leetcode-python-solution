{
 "metadata": {
  "name": "",
  "signature": "sha256:123e6680c8f822044055faaeba3e21e3040133025d5a391ce6aded5ef4412ed0"
 },
 "nbformat": 3,
 "nbformat_minor": 0,
 "worksheets": [
  {
   "cells": [
    {
     "cell_type": "markdown",
     "metadata": {},
     "source": [
      "Given an array nums, write a function to move all 0's to the end of it while maintaining the relative order of the non-zero elements.\n",
      "\n",
      "For example, given nums = [0, 1, 0, 3, 12], after calling your function, nums should be [1, 3, 12, 0, 0].\n",
      "\n",
      "Note:\n",
      "You must do this in-place without making a copy of the array.\n",
      "Minimize the total number of operations.\n",
      "\n",
      "# the basic usage of queue."
     ]
    },
    {
     "cell_type": "code",
     "collapsed": false,
     "input": [
      "class Solution(object):\n",
      "    def moveZeroes(self, nums):\n",
      "        \"\"\"\n",
      "        :type nums: List[int]\n",
      "        :rtype: void Do not return anything, modify nums in-place instead.\n",
      "        \"\"\"\n",
      "        ct = 0;\n",
      "        for i in range(0,len(nums)):\n",
      "            if ct == len(nums)-nums.count(0): break;\n",
      "            a = nums[ct]\n",
      "            while a == 0:\n",
      "                nums.pop(ct)\n",
      "                nums.append(0)\n",
      "                a = nums[ct]    \n",
      "            ct = ct + 1\n",
      "            #print(nums)\n",
      "      "
     ],
     "language": "python",
     "metadata": {},
     "outputs": [],
     "prompt_number": 1
    },
    {
     "cell_type": "code",
     "collapsed": false,
     "input": [
      "class Solution(object):\n",
      "    def moveZeroes(self, nums):\n",
      "        \"\"\"\n",
      "        :type nums: List[int]\n",
      "        :rtype: void Do not return anything, modify nums in-place instead.\n",
      "        \"\"\"\n",
      "        ct = 0;\n",
      "        for i in range(0,len(nums)):\n",
      "            if ct == len(nums)-nums.count(0): break;\n",
      "            a = nums[ct]\n",
      "            while a == 0:\n",
      "                nums.pop(ct)\n",
      "                nums.append(0)\n",
      "                a = nums[ct]    \n",
      "            ct = ct + 1\n",
      "            #print(nums)"
     ],
     "language": "python",
     "metadata": {},
     "outputs": [],
     "prompt_number": 2
    },
    {
     "cell_type": "code",
     "collapsed": false,
     "input": [
      "# faster way.\n",
      "class Solution(object):\n",
      "    # in-place\n",
      "    def moveZeroes(self, nums):\n",
      "        zero = 0  # records the position of \"0\"\n",
      "        for i in xrange(len(nums)):\n",
      "            if nums[i] != 0:\n",
      "                nums[i], nums[zero] = nums[zero], nums[i]\n",
      "                zero += 1"
     ],
     "language": "python",
     "metadata": {},
     "outputs": [],
     "prompt_number": 3
    },
    {
     "cell_type": "code",
     "collapsed": false,
     "input": [],
     "language": "python",
     "metadata": {},
     "outputs": []
    }
   ],
   "metadata": {}
  }
 ]
}