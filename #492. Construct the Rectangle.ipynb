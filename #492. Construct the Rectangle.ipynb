{
 "metadata": {
  "name": "",
  "signature": "sha256:a3c280e6d2340c0c4c75bd3450c889afcb1a4547e0cc531fbdc43c986c6385f8"
 },
 "nbformat": 3,
 "nbformat_minor": 0,
 "worksheets": [
  {
   "cells": [
    {
     "cell_type": "markdown",
     "metadata": {},
     "source": [
      "For a web developer, it is very important to know how to design a web page's size. So, given a specific rectangular web page\u2019s area, your job by now is to design a rectangular web page, whose length L and width W satisfy the following requirements:\n",
      "\n",
      "1. The area of the rectangular web page you designed must equal to the given target area.\n",
      "\n",
      "2. The width W should not be larger than the length L, which means L >= W.\n",
      "\n",
      "3. The difference between length L and width W should be as small as possible.\n",
      "You need to output the length L and the width W of the web page you designed in sequence."
     ]
    },
    {
     "cell_type": "code",
     "collapsed": false,
     "input": [
      "class Solution(object):\n",
      "    def constructRectangle(self, area):\n",
      "        \"\"\"\n",
      "        :type area: int\n",
      "        :rtype: List[int]\n",
      "        \"\"\"\n",
      "        import math\n",
      "        lens = int(math.sqrt(area))\n",
      "        while area%lens != 0 :\n",
      "            lens = lens - 1;\n",
      "        return [area/lens,lens]    \n",
      "            "
     ],
     "language": "python",
     "metadata": {},
     "outputs": [],
     "prompt_number": 1
    },
    {
     "cell_type": "code",
     "collapsed": false,
     "input": [],
     "language": "python",
     "metadata": {},
     "outputs": []
    }
   ],
   "metadata": {}
  }
 ]
}