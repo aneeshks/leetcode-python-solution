{
 "metadata": {
  "name": "",
  "signature": "sha256:c5775a481f07b1fe309bd1c309be30d45f1f9d10447a123d73c5dfea57d69119"
 },
 "nbformat": 3,
 "nbformat_minor": 0,
 "worksheets": [
  {
   "cells": [
    {
     "cell_type": "markdown",
     "metadata": {},
     "source": [
      "Given an array of integers that is already sorted in ascending order, find two numbers such that they add up to a specific target number.\n",
      "\n",
      "The function twoSum should return indices of the two numbers such that they add up to the target, where index1 must be less than index2. Please note that your returned answers (both index1 and index2) are not zero-based.\n",
      "\n",
      "You may assume that each input would have exactly one solution and you may not use the same element twice.\n",
      "\n",
      "Input: numbers={2, 7, 11, 15}, target=9\n",
      "Output: index1=1, index2=2\n",
      "\n"
     ]
    },
    {
     "cell_type": "code",
     "collapsed": false,
     "input": [
      "class Solution(object):\n",
      "    def twoSum(self, numbers, target):\n",
      "        l, r = 0, len(numbers)-1\n",
      "        while l < r: # greedy two points. if the array has already sorted, we take two points which controls the idx of compare number.\n",
      "            s = numbers[l] + numbers[r]\n",
      "            if s == target:\n",
      "                return [l+1, r+1]\n",
      "            elif s < target:# update the small numbers when current < target\n",
      "                l += 1\n",
      "            else: # update the big number when current > target.\n",
      "                r -= 1"
     ],
     "language": "python",
     "metadata": {},
     "outputs": [],
     "prompt_number": 3
    },
    {
     "cell_type": "code",
     "collapsed": false,
     "input": [],
     "language": "python",
     "metadata": {},
     "outputs": [],
     "prompt_number": 3
    },
    {
     "cell_type": "code",
     "collapsed": false,
     "input": [],
     "language": "python",
     "metadata": {},
     "outputs": []
    }
   ],
   "metadata": {}
  }
 ]
}