{
 "metadata": {
  "name": "",
  "signature": "sha256:3675bb5dddd384e618514ffea3d60535cee7fa859f8bdfbc0c8a46ac0f0860b5"
 },
 "nbformat": 3,
 "nbformat_minor": 0,
 "worksheets": [
  {
   "cells": [
    {
     "cell_type": "markdown",
     "metadata": {},
     "source": [
      "Given an integer, write a function to determine if it is a power of two."
     ]
    },
    {
     "cell_type": "code",
     "collapsed": false,
     "input": [
      "class Solution(object):\n",
      "    def isPowerOfTwo(self, n):\n",
      "        \"\"\"\n",
      "        :type n: int\n",
      "        :rtype: bool\n",
      "        \"\"\"\n",
      "        if n == 1:\n",
      "            return True\n",
      "        if n <= 0:\n",
      "            return False\n",
      "        xx = str(bin(abs(n)-1));\n",
      "        # print(xx)\n",
      "        for i in xx[2:]:\n",
      "            if i == '0':\n",
      "                return False\n",
      "        \n",
      "        return True"
     ],
     "language": "python",
     "metadata": {},
     "outputs": [],
     "prompt_number": 1
    }
   ],
   "metadata": {}
  }
 ]
}