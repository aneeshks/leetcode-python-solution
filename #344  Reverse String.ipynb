{
 "metadata": {
  "name": "",
  "signature": "sha256:bc8deca35d37d2d09da7be0e429fbe9885a28421514f5b37f59dcd57f088d88d"
 },
 "nbformat": 3,
 "nbformat_minor": 0,
 "worksheets": [
  {
   "cells": [
    {
     "cell_type": "markdown",
     "metadata": {},
     "source": [
      "Write a function that takes a string as input and returns the string reversed.\n",
      "\n",
      "Example:\n",
      "Given s = \"hello\", return \"olleh\".\n",
      "\n"
     ]
    },
    {
     "cell_type": "code",
     "collapsed": false,
     "input": [
      "# for any list\n",
      "# str[begin:end:stripe]\n",
      "\n",
      "class Solution(object):\n",
      "    def reverseString(self, s):\n",
      "        \"\"\"\n",
      "        :type s: str\n",
      "        :rtype: str\n",
      "        \"\"\"\n",
      "        return s[::-1]"
     ],
     "language": "python",
     "metadata": {},
     "outputs": [],
     "prompt_number": 1
    },
    {
     "cell_type": "code",
     "collapsed": false,
     "input": [],
     "language": "python",
     "metadata": {},
     "outputs": []
    }
   ],
   "metadata": {}
  }
 ]
}