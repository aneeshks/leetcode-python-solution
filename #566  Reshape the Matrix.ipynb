{
 "metadata": {
  "name": "",
  "signature": "sha256:4422308544c37022ce6dd094bf788e747667654a7dc0a14d21ecf1c5caf0375c"
 },
 "nbformat": 3,
 "nbformat_minor": 0,
 "worksheets": [
  {
   "cells": [
    {
     "cell_type": "markdown",
     "metadata": {},
     "source": [
      "In MATLAB, there is a very useful function called 'reshape', which can reshape a matrix into a new one with different size but keep its original data.\n",
      "\n",
      "You're given a matrix represented by a two-dimensional array, and two positive integers r and c representing the row number and column number of the wanted reshaped matrix, respectively.\n",
      "\n",
      "The reshaped matrix need to be filled with all the elements of the original matrix in the same row-traversing order as they were.\n",
      "\n",
      "If the 'reshape' operation with given parameters is possible and legal, output the new reshaped matrix; Otherwise, output the original matrix.\n",
      "\n"
     ]
    },
    {
     "cell_type": "code",
     "collapsed": false,
     "input": [
      "class Solution(object):\n",
      "    def matrixReshape(self, nums, r, c):\n",
      "        \"\"\"\n",
      "        :type nums: List[List[int]]\n",
      "        :type r: int\n",
      "        :type c: int\n",
      "        :rtype: List[List[int]]\n",
      "        \"\"\"\n",
      "        ro = len(nums);\n",
      "        co = len(nums[0]);\n",
      "        \n",
      "        if ro*co != r*c:\n",
      "            return nums;\n",
      "        re0 = []\n",
      "        for row in nums:\n",
      "            re0 = re0 +row\n",
      "        re = []\n",
      "\n",
      "        for i in range(1,r+1):\n",
      "            re.append(re0[(i-1)*c:i*c])\n",
      "            \n",
      "        return re"
     ],
     "language": "python",
     "metadata": {},
     "outputs": [],
     "prompt_number": 1
    },
    {
     "cell_type": "markdown",
     "metadata": {},
     "source": [
      "Another solution is the items in matrix has the relationship:\n",
      "$$ i \\times c + j \\times r = i_0 \\times c_0 + j_0 \\times r_0 $$\n",
      "where $i,j$ is the row(r),column(c) of current shape and $i_0,j_0$ is the row($r_0$) and column($c_0$) of original shape."
     ]
    },
    {
     "cell_type": "code",
     "collapsed": false,
     "input": [
      "class Solution(object):\n",
      "    def matrixReshape(self, nums, r, c):\n",
      "        \"\"\"\n",
      "        :type nums: List[List[int]]\n",
      "        :type r: int\n",
      "        :type c: int\n",
      "        :rtype: List[List[int]]\n",
      "        \"\"\"\n",
      "        ro = len(nums);\n",
      "        co = len(nums[0]);\n",
      "        \n",
      "        if ro*co != r*c:\n",
      "            return nums;\n",
      "\n",
      "        re = [ [0 for _ in range(c)] for _ in range(r)]\n",
      "\n",
      "        for i in range(1,ro*co):\n",
      "            re[i//c][i%c] = nums[i//co][i%co]\n",
      "            \n",
      "        return re"
     ],
     "language": "python",
     "metadata": {},
     "outputs": [],
     "prompt_number": 11
    },
    {
     "cell_type": "code",
     "collapsed": false,
     "input": [],
     "language": "python",
     "metadata": {},
     "outputs": [],
     "prompt_number": 11
    },
    {
     "cell_type": "code",
     "collapsed": false,
     "input": [],
     "language": "python",
     "metadata": {},
     "outputs": [],
     "prompt_number": 11
    },
    {
     "cell_type": "code",
     "collapsed": false,
     "input": [],
     "language": "python",
     "metadata": {},
     "outputs": [],
     "prompt_number": 11
    },
    {
     "cell_type": "code",
     "collapsed": false,
     "input": [],
     "language": "python",
     "metadata": {},
     "outputs": [],
     "prompt_number": 11
    },
    {
     "cell_type": "code",
     "collapsed": false,
     "input": [],
     "language": "python",
     "metadata": {},
     "outputs": [],
     "prompt_number": 11
    },
    {
     "cell_type": "code",
     "collapsed": false,
     "input": [],
     "language": "python",
     "metadata": {},
     "outputs": []
    }
   ],
   "metadata": {}
  }
 ]
}