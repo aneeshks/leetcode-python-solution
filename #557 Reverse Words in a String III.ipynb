{
 "metadata": {
  "name": "",
  "signature": "sha256:c22124650f8ab3cbe3b741a4c9cdbd840dcbcd4f0083b579a0c0c67f7084c501"
 },
 "nbformat": 3,
 "nbformat_minor": 0,
 "worksheets": [
  {
   "cells": [
    {
     "cell_type": "markdown",
     "metadata": {},
     "source": [
      "Given a string, you need to reverse the order of characters in each word within a sentence while still preserving whitespace and initial word order.\n",
      "\n",
      "Example 1:\n",
      "Input: \"Let's take LeetCode contest\"\n",
      "Output: \"s'teL ekat edoCteeL tsetnoc\"\n",
      "Note: In the string, each word is separated by single space and there will not be any extra space in the string."
     ]
    },
    {
     "cell_type": "code",
     "collapsed": false,
     "input": [
      "class Solution(object):\n",
      "    def reverseWords(self, s):\n",
      "        \"\"\"\n",
      "        :type s: str\n",
      "        :rtype: str\n",
      "        \"\"\"\n",
      "        splited = s.split(\" \") \n",
      "        re_list = []\n",
      "        for item in splited:\n",
      "            re_list.append(item[::-1])\n",
      "        return \" \".join(re_list);"
     ],
     "language": "python",
     "metadata": {},
     "outputs": [],
     "prompt_number": 3
    },
    {
     "cell_type": "markdown",
     "metadata": {},
     "source": [
      "### here is a more elegent way to do this problem, we just need to reverse the word to build the whole sentense and then reverse the whole sentense to get the output"
     ]
    },
    {
     "cell_type": "code",
     "collapsed": false,
     "input": [
      "class Solution(object):\n",
      "    def reverseWords(self, s):\n",
      "        \"\"\"\n",
      "        :type s: str\n",
      "        :rtype: str\n",
      "        \"\"\"\n",
      "        return \" \".join(s.split()[::-1])[::-1];"
     ],
     "language": "python",
     "metadata": {},
     "outputs": [],
     "prompt_number": 2
    }
   ],
   "metadata": {}
  }
 ]
}