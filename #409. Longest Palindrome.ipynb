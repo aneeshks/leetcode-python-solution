{
 "metadata": {
  "name": "",
  "signature": "sha256:3c6472809e0d20f956cbb292c785363fcd3b926ea0b97b8212b5ef00984ca227"
 },
 "nbformat": 3,
 "nbformat_minor": 0,
 "worksheets": [
  {
   "cells": [
    {
     "cell_type": "markdown",
     "metadata": {},
     "source": [
      "Given a string which consists of lowercase or uppercase letters, find the length of the longest palindromes that can be built with those letters.\n",
      "\n",
      "This is case sensitive, for example \"Aa\" is not considered a palindrome here.\n",
      "\n",
      "Note:\n",
      "Assume the length of given string will not exceed 1,010.\n",
      "\n",
      "Example:"
     ]
    },
    {
     "cell_type": "code",
     "collapsed": false,
     "input": [
      "class Solution(object):\n",
      "    def longestPalindrome(self, s):\n",
      "        \"\"\"\n",
      "        :type s: str\n",
      "        :rtype: int\n",
      "        \"\"\"\n",
      "        ss = collections.Counter(s);\n",
      "        sumx= 0 ;\n",
      "        flag = 0\n",
      "        for i,v in ss.items():\n",
      "            if v % 2 == 0:\n",
      "               sumx= sumx+ v\n",
      "            if v % 2 == 1:\n",
      "                flag = 1;\n",
      "                sumx = sumx + (v-1)\n",
      "        return sumx+1*flag"
     ],
     "language": "python",
     "metadata": {},
     "outputs": [],
     "prompt_number": 1
    }
   ],
   "metadata": {}
  }
 ]
}