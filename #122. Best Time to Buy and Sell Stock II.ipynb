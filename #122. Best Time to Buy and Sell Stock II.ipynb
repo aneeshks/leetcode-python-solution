{
 "metadata": {
  "name": "",
  "signature": "sha256:6ecea35bde59cd50a8dbd0ec0d2a363b472e9e6e888b847782d5fcdbc8fc29c0"
 },
 "nbformat": 3,
 "nbformat_minor": 0,
 "worksheets": [
  {
   "cells": [
    {
     "cell_type": "markdown",
     "metadata": {},
     "source": [
      "Say you have an array for which the ith element is the price of a given stock on day i.\n",
      "\n",
      "Design an algorithm to find the maximum profit. You may complete as many transactions as you like (ie, buy one and sell one share of the stock multiple times). However, you may not engage in multiple transactions at the same time (ie, you must sell the stock before you buy again)."
     ]
    },
    {
     "cell_type": "code",
     "collapsed": false,
     "input": [
      "#greedy. if the price of tomorrow is great than today. buy it today and sell tomorrow.\n",
      "class Solution(object):\n",
      "    def maxProfit(self, prices):\n",
      "        return sum(max(prices[i + 1] - prices[i], 0) for i in range(len(prices) - 1))"
     ],
     "language": "python",
     "metadata": {},
     "outputs": [],
     "prompt_number": 1
    }
   ],
   "metadata": {}
  }
 ]
}