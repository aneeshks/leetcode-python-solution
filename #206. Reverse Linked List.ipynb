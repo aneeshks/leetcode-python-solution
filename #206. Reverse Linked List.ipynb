{
 "metadata": {
  "name": "",
  "signature": "sha256:073b4202207f53f91f98c808a8bc11401ea8346fb4354a1c981bb086ecba85f8"
 },
 "nbformat": 3,
 "nbformat_minor": 0,
 "worksheets": [
  {
   "cells": [
    {
     "cell_type": "code",
     "collapsed": false,
     "input": [
      "# Definition for singly-linked list.\n",
      "# class ListNode(object):\n",
      "#     def __init__(self, x):\n",
      "#         self.val = x\n",
      "#         self.next = None\n",
      "\n",
      "class Solution(object):\n",
      "    def reverseList(self, head):\n",
      "        \"\"\"\n",
      "        :type head: ListNode\n",
      "        :rtype: ListNode\n",
      "        \"\"\"\n",
      "        prev = None;\n",
      "        while head:\n",
      "            curr = head\n",
      "            head = head.next\n",
      "            curr.next = prev\n",
      "            prev = curr\n",
      "            \n",
      "        return prev"
     ],
     "language": "python",
     "metadata": {},
     "outputs": [],
     "prompt_number": 1
    },
    {
     "cell_type": "code",
     "collapsed": false,
     "input": [],
     "language": "python",
     "metadata": {},
     "outputs": []
    }
   ],
   "metadata": {}
  }
 ]
}