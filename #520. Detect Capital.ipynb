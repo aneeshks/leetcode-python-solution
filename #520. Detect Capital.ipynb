{
 "metadata": {
  "name": "",
  "signature": "sha256:7116e818c593513569debfbfed21ee5e7545fb723f667663316f50bf3548d69c"
 },
 "nbformat": 3,
 "nbformat_minor": 0,
 "worksheets": [
  {
   "cells": [
    {
     "cell_type": "markdown",
     "metadata": {},
     "source": [
      "Given a word, you need to judge whether the usage of capitals in it is right or not.\n",
      "\n",
      "We define the usage of capitals in a word to be right when one of the following cases holds:\n",
      "\n",
      "All letters in this word are capitals, like \"USA\".\n",
      "All letters in this word are not capitals, like \"leetcode\".\n",
      "Only the first letter in this word is capital if it has more than one letter, like \"Google\".\n",
      "Otherwise, we define that this word doesn't use capitals in a right way."
     ]
    },
    {
     "cell_type": "code",
     "collapsed": false,
     "input": [
      "class Solution(object):\n",
      "    def detectCapitalUse(self, word):\n",
      "        \"\"\"\n",
      "        :type word: str\n",
      "        :rtype: bool\n",
      "        \"\"\"\n",
      "        import re\n",
      "        \n",
      "        pattern = re.compile(r'^[A-Z][a-z]+$|^[A-Z]+$|^[a-z]+$')\n",
      "        \n",
      "        return True if pattern.match(word) else False"
     ],
     "language": "python",
     "metadata": {},
     "outputs": [],
     "prompt_number": 3
    },
    {
     "cell_type": "code",
     "collapsed": false,
     "input": [],
     "language": "python",
     "metadata": {},
     "outputs": []
    }
   ],
   "metadata": {}
  }
 ]
}