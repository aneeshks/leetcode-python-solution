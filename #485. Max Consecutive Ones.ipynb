{
 "metadata": {
  "name": "",
  "signature": "sha256:cdd9fe43c65933edf9e3e08a2968d1ee17e00606823bcdc317dcce1bf0541117"
 },
 "nbformat": 3,
 "nbformat_minor": 0,
 "worksheets": [
  {
   "cells": [
    {
     "cell_type": "markdown",
     "metadata": {},
     "source": [
      "Given a binary array, find the maximum number of consecutive 1s in this array."
     ]
    },
    {
     "cell_type": "code",
     "collapsed": false,
     "input": [
      "class Solution(object):\n",
      "    def findMaxConsecutiveOnes(self, nums):\n",
      "        \"\"\"\n",
      "        :type nums: List[int]\n",
      "        :rtype: int\n",
      "        \"\"\"\n",
      "        str_nums = ''.join([str(i) for i in nums]);\n",
      "        splited_nums = str_nums.split('0')\n",
      "        return max([len(i) for i in splited_nums ])"
     ],
     "language": "python",
     "metadata": {},
     "outputs": [],
     "prompt_number": 2
    },
    {
     "cell_type": "code",
     "collapsed": false,
     "input": [],
     "language": "python",
     "metadata": {},
     "outputs": []
    }
   ],
   "metadata": {}
  }
 ]
}