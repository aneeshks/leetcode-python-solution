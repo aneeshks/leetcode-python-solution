{
 "metadata": {
  "name": "",
  "signature": "sha256:dddc7caedf7cc37c078508c633dcff9f3c2e485a6e4a1c23a2d0eea12ecd4d4b"
 },
 "nbformat": 3,
 "nbformat_minor": 0,
 "worksheets": [
  {
   "cells": [
    {
     "cell_type": "markdown",
     "metadata": {},
     "source": [
      "Given two arrays, write a function to compute their intersection.\n",
      "\n",
      "Example:\n",
      "Given nums1 = [1, 2, 2, 1], nums2 = [2, 2], return [2].\n",
      "\n",
      "Note:\n",
      "Each element in the result must be unique.\n",
      "The result can be in any order."
     ]
    },
    {
     "cell_type": "code",
     "collapsed": false,
     "input": [
      "class Solution(object):\n",
      "    def intersection(self, nums1, nums2):\n",
      "        \"\"\"\n",
      "        :type nums1: List[int]\n",
      "        :type nums2: List[int]\n",
      "        :rtype: List[int]\n",
      "        \"\"\"\n",
      "        re = []\n",
      "        for i in nums1:\n",
      "            if i in nums2:\n",
      "                re.append(i)\n",
      "        for i in nums2:\n",
      "            if i in nums1:\n",
      "                re.append(i)\n",
      "                \n",
      "        return list(set(re))         "
     ],
     "language": "python",
     "metadata": {},
     "outputs": [],
     "prompt_number": 8
    },
    {
     "cell_type": "markdown",
     "metadata": {},
     "source": [
      "# a better way here, set is to get the unique number, `&` is for the intersection"
     ]
    },
    {
     "cell_type": "code",
     "collapsed": false,
     "input": [
      "class Solution(object):\n",
      "    def intersection(self, nums1, nums2):\n",
      "        \"\"\"\n",
      "        :type nums1: List[int]\n",
      "        :type nums2: List[int]\n",
      "        :rtype: List[int]\n",
      "        \"\"\"\n",
      "        nums1=set(nums1)\n",
      "        nums2=set(nums2)\n",
      "        return list(nums1&nums2)  "
     ],
     "language": "python",
     "metadata": {},
     "outputs": [],
     "prompt_number": 4
    },
    {
     "cell_type": "code",
     "collapsed": false,
     "input": [
      "m = set([1,2,3])\n",
      "n = set([2,3])\n",
      "print(m&n)"
     ],
     "language": "python",
     "metadata": {},
     "outputs": [
      {
       "output_type": "stream",
       "stream": "stdout",
       "text": [
        "{2, 3}\n"
       ]
      }
     ],
     "prompt_number": 7
    },
    {
     "cell_type": "markdown",
     "metadata": {},
     "source": [
      "python\u7684set\u548c\u5176\u4ed6\u8bed\u8a00\u7c7b\u4f3c, \u662f\u4e00\u4e2a\u65e0\u5e8f\u4e0d\u91cd\u590d\u5143\u7d20\u96c6, \u57fa\u672c\u529f\u80fd\u5305\u62ec\u5173\u7cfb\u6d4b\u8bd5\u548c\u6d88\u9664\u91cd\u590d\u5143\u7d20. \u96c6\u5408\u5bf9\u8c61\u8fd8\u652f\u6301union(\u8054\u5408), intersection(\u4ea4), difference(\u5dee)\u548csysmmetric difference(\u5bf9\u79f0\u5dee\u96c6)\u7b49\u6570\u5b66\u8fd0\u7b97.  \n",
      "  \n",
      "sets \u652f\u6301 x in set, len(set),\u548c for x in set\u3002\u4f5c\u4e3a\u4e00\u4e2a\u65e0\u5e8f\u7684\u96c6\u5408\uff0csets\u4e0d\u8bb0\u5f55\u5143\u7d20\u4f4d\u7f6e\u6216\u8005\u63d2\u5165\u70b9\u3002\u56e0\u6b64\uff0csets\u4e0d\u652f\u6301 indexing, slicing, \u6216\u5176\u5b83\u7c7b\u5e8f\u5217\uff08sequence-like\uff09\u7684\u64cd\u4f5c\u3002"
     ]
    },
    {
     "cell_type": "code",
     "collapsed": false,
     "input": [],
     "language": "python",
     "metadata": {},
     "outputs": []
    }
   ],
   "metadata": {}
  }
 ]
}