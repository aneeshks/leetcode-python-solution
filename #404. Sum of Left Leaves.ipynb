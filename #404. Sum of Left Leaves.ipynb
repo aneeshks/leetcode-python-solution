{
 "metadata": {
  "name": "",
  "signature": "sha256:64eb1eda5e06213d15cb7674def5d0a5558fe1a08add31e4ae76892d3af6d053"
 },
 "nbformat": 3,
 "nbformat_minor": 0,
 "worksheets": [
  {
   "cells": [
    {
     "cell_type": "markdown",
     "metadata": {},
     "source": [
      "Find the sum of all left leaves in a given binary tree.\n",
      "\n",
      "Example:\n",
      "\n",
      "    3\n",
      "   / \\\n",
      "  9  20\n",
      "    /  \\\n",
      "   15   7\n",
      "\n",
      "There are two left leaves in the binary tree, with values 9 and 15 respectively. Return 24."
     ]
    },
    {
     "cell_type": "code",
     "collapsed": false,
     "input": [
      "# Definition for a binary tree node.\n",
      "# class TreeNode(object):\n",
      "#     def __init__(self, x):\n",
      "#         self.val = x\n",
      "#         self.left = None\n",
      "#         self.right = None\n",
      "\n",
      "class Solution(object):\n",
      "    def sumOfLeftLeaves(self, root):\n",
      "        \"\"\"\n",
      "        :type root: TreeNode\n",
      "        :rtype: int\n",
      "        \"\"\"\n",
      "        l = [];\n",
      "        def warpper(root,l=[]):\n",
      "            if not root:\n",
      "                return;\n",
      "            if root.left and not root.left.left and not root.left.right:\n",
      "                l.append(root.left.val) \n",
      "                warpper(root.left,l)\n",
      "            elif root.left:\n",
      "                warpper(root.left,l)\n",
      "            if root.right:\n",
      "                warpper(root.right,l)\n",
      "        warpper(root,l);\n",
      "        return sum(l)       \n",
      "    \n",
      "    # just need to return the left node which don't have children."
     ],
     "language": "python",
     "metadata": {},
     "outputs": [],
     "prompt_number": 1
    }
   ],
   "metadata": {}
  }
 ]
}