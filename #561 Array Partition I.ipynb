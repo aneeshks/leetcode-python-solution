{
 "metadata": {
  "name": "",
  "signature": "sha256:fa50dc8b6f323bab7b8fc42b290f02f1ccfad66c7c67455e6220d472a3f838c0"
 },
 "nbformat": 3,
 "nbformat_minor": 0,
 "worksheets": [
  {
   "cells": [
    {
     "cell_type": "markdown",
     "metadata": {},
     "source": [
      "Given an array of 2n integers, your task is to group these integers into n pairs of integer, say (a1, b1), (a2, b2), ..., (an, bn) which makes sum of min(ai, bi) for all i from 1 to n as large as possible.\n",
      "\n",
      "Example 1:\n",
      "Input: [1,4,3,2]\n",
      "\n",
      "Output: 4\n",
      "Explanation: n is 2, and the maximum sum of pairs is 4 = min(1, 2) + min(3, 4).\n",
      "Note:\n",
      "n is a positive integer, which is in the range of [1, 10000].\n",
      "All the integers in the array will be in the range of [-10000, 10000].\n"
     ]
    },
    {
     "cell_type": "code",
     "collapsed": false,
     "input": [
      "class Solution(object):\n",
      "    def arrayPairSum(self, nums):\n",
      "        \"\"\"\n",
      "        :type nums: List[int]\n",
      "        :rtype: int\n",
      "        \"\"\"\n",
      "        sumx = 0\n",
      "        # get the results of\n",
      "        nums.sort();\n",
      "        for i,v in enumerate(nums):\n",
      "            if i%2 == 0:\n",
      "                sumx = sumx + v;\n",
      "                \n",
      "        return sumx;"
     ],
     "language": "python",
     "metadata": {},
     "outputs": []
    }
   ],
   "metadata": {}
  }
 ]
}