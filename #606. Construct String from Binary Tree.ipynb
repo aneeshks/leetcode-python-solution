{
 "metadata": {
  "name": "",
  "signature": "sha256:87bb2bdabd044ddfb3b9b103e0462e40afe983c98fb9f5e62727b3ea1cab42c0"
 },
 "nbformat": 3,
 "nbformat_minor": 0,
 "worksheets": [
  {
   "cells": [
    {
     "cell_type": "markdown",
     "metadata": {},
     "source": [
      "You need to construct a string consists of parenthesis and integers from a binary tree with the preorder traversing way.\n",
      "\n",
      "The null node needs to be represented by empty parenthesis pair \"()\". And you need to omit all the empty parenthesis pairs that don't affect the one-to-one mapping relationship between the string and the original binary tree."
     ]
    },
    {
     "cell_type": "code",
     "collapsed": false,
     "input": [
      "# Definition for a binary tree node.\n",
      "# class TreeNode(object):\n",
      "#     def __init__(self, x):\n",
      "#         self.val = x\n",
      "#         self.left = None\n",
      "#         self.right = None\n",
      "\n",
      "class Solution(object):\n",
      "    def tree2str(self, t):\n",
      "        def warp(t):\n",
      "            \"\"\"\n",
      "            :type t: TreeNode\n",
      "            :rtype: str\n",
      "            \"\"\" \n",
      "            if t:\n",
      "                #need to consider if left is none and right is not none.\n",
      "                if t.left==None and t.right != None:\n",
      "                    return \"(\"+str(t.val)+\"()\"+warp(t.right)+\")\"\n",
      "                return \"(\"+str(t.val)+warp(t.left)+warp(t.right)+\")\"\n",
      "            else:\n",
      "                return \"\"\n",
      "        return warp(t)[1:-1]"
     ],
     "language": "python",
     "metadata": {},
     "outputs": [],
     "prompt_number": 2
    },
    {
     "cell_type": "code",
     "collapsed": false,
     "input": [],
     "language": "python",
     "metadata": {},
     "outputs": []
    }
   ],
   "metadata": {}
  }
 ]
}